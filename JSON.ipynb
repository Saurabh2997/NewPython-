{
  "nbformat": 4,
  "nbformat_minor": 0,
  "metadata": {
    "colab": {
      "name": "JSON.ipynb",
      "provenance": [],
      "authorship_tag": "ABX9TyOfG/bG3kqfpHAChENRwQZb",
      "include_colab_link": true
    },
    "kernelspec": {
      "name": "python3",
      "display_name": "Python 3"
    }
  },
  "cells": [
    {
      "cell_type": "markdown",
      "metadata": {
        "id": "view-in-github",
        "colab_type": "text"
      },
      "source": [
        "<a href=\"https://colab.research.google.com/github/Saurabh2997/Python-/blob/master/JSON.ipynb\" target=\"_parent\"><img src=\"https://colab.research.google.com/assets/colab-badge.svg\" alt=\"Open In Colab\"/></a>"
      ]
    },
    {
      "cell_type": "markdown",
      "metadata": {
        "id": "m5pbu6O5s948",
        "colab_type": "text"
      },
      "source": [
        "\n",
        "Write a Python program to convert JSON data to Python object."
      ]
    },
    {
      "cell_type": "code",
      "metadata": {
        "id": "iS7a0PZNTKU9",
        "colab_type": "code",
        "colab": {}
      },
      "source": [
        "import json\n",
        "\n",
        "p='''\n",
        "{\"name\": \"Bob\",\"languages\": [\"English\", \"Fench\"],\"married\": \"true\",\"age\": \"32\"}\n",
        "'''\n",
        "office = json.loads(p)\n"
      ],
      "execution_count": null,
      "outputs": []
    },
    {
      "cell_type": "code",
      "metadata": {
        "id": "6cifhjje6FGW",
        "colab_type": "code",
        "colab": {}
      },
      "source": [
        "import json\n",
        "\n",
        "person = '{\"name\": \"Bob\", \"languages\": [\"English\", \"Fench\"]}'\n",
        "person_dict = json.loads(person)"
      ],
      "execution_count": null,
      "outputs": []
    },
    {
      "cell_type": "code",
      "metadata": {
        "id": "eAFVfmIVootZ",
        "colab_type": "code",
        "colab": {
          "base_uri": "https://localhost:8080/",
          "height": 68
        },
        "outputId": "11387093-ef92-407b-f085-ba7e08f92615"
      },
      "source": [
        "import json\n",
        "\n",
        "p='''\n",
        "{\"Employee\":\n",
        "[\n",
        "  {\n",
        "    \"Name\":\"Sam\",\n",
        "    \"phone\":[\"9321546595\",\"9968451200\"],\n",
        "    \"branch\":\"Sales\"\n",
        "  },\n",
        "  {\n",
        "    \"Name\":\"Jon\",\n",
        "    \"phone\":[\"9321546789\",\"9968471200\"],\n",
        "    \"branch\":\"Marketing\"\n",
        "  },\n",
        "  {\n",
        "    \"Name\":\"Matt\",\n",
        "    \"phone\":[\"8721546595\",\"8965451201\"],\n",
        "    \"branch\":\"Sales\"\n",
        "  }\n",
        "]\n",
        "}'''\n",
        "\n",
        "office = json.loads(p)\n",
        "\n",
        "for i in office['Employee']:\n",
        "  print(i['branch'])\n",
        "\n"
      ],
      "execution_count": null,
      "outputs": [
        {
          "output_type": "stream",
          "text": [
            "Sales\n",
            "Marketing\n",
            "Sales\n"
          ],
          "name": "stdout"
        }
      ]
    },
    {
      "cell_type": "markdown",
      "metadata": {
        "id": "Q_Yaq_2oRz2_",
        "colab_type": "text"
      },
      "source": [
        "Write a Python program to convert Python object to JSON data."
      ]
    },
    {
      "cell_type": "code",
      "metadata": {
        "id": "NxtTbwgHooxX",
        "colab_type": "code",
        "colab": {
          "base_uri": "https://localhost:8080/",
          "height": 493
        },
        "outputId": "85fd6de0-ee57-4b01-ee88-6a485a4dbd96"
      },
      "source": [
        "import json\n",
        "p='''\n",
        "{\"Employee\":\n",
        "[\n",
        "  {\n",
        "    \"Name\":\"Sam\",\n",
        "    \"phone\":[\"9321546595\",\"9968451200\"],\n",
        "    \"branch\":\"Sales\"\n",
        "  },\n",
        "  {\n",
        "    \"Name\":\"Jon\",\n",
        "    \"phone\":[\"9321546789\",\"9968471200\"],\n",
        "    \"branch\":\"Marketing\"\n",
        "  },\n",
        "  {\n",
        "    \"Name\":\"Matt\",\n",
        "    \"phone\":[\"8721546595\",\"8965451201\"],\n",
        "    \"branch\":\"Sales\"\n",
        "  }\n",
        "]\n",
        "}'''\n",
        "\n",
        "obj=json.loads(p)\n",
        "\n",
        "data=json.dumps(obj,indent=2)\n",
        "\n",
        "print(data)"
      ],
      "execution_count": null,
      "outputs": [
        {
          "output_type": "stream",
          "text": [
            "{\n",
            "  \"Employee\": [\n",
            "    {\n",
            "      \"Name\": \"Sam\",\n",
            "      \"phone\": [\n",
            "        \"9321546595\",\n",
            "        \"9968451200\"\n",
            "      ],\n",
            "      \"branch\": \"Sales\"\n",
            "    },\n",
            "    {\n",
            "      \"Name\": \"Jon\",\n",
            "      \"phone\": [\n",
            "        \"9321546789\",\n",
            "        \"9968471200\"\n",
            "      ],\n",
            "      \"branch\": \"Marketing\"\n",
            "    },\n",
            "    {\n",
            "      \"Name\": \"Matt\",\n",
            "      \"phone\": [\n",
            "        \"8721546595\",\n",
            "        \"8965451201\"\n",
            "      ],\n",
            "      \"branch\": \"Sales\"\n",
            "    }\n",
            "  ]\n",
            "}\n"
          ],
          "name": "stdout"
        }
      ]
    },
    {
      "cell_type": "markdown",
      "metadata": {
        "id": "2D58tTvSTL6c",
        "colab_type": "text"
      },
      "source": [
        "Write a Python program to convert JSON encoded data into Python objects."
      ]
    },
    {
      "cell_type": "code",
      "metadata": {
        "id": "ng2K2XGtoo08",
        "colab_type": "code",
        "colab": {
          "base_uri": "https://localhost:8080/",
          "height": 34
        },
        "outputId": "61002b4c-e2a6-462b-d02d-c24f11168490"
      },
      "source": [
        "import json\n",
        "\n",
        "handle=open('/content/roster_data.json')\n",
        "obj=json.load(handle)\n",
        "print(type(obj))"
      ],
      "execution_count": null,
      "outputs": [
        {
          "output_type": "stream",
          "text": [
            "<class 'list'>\n"
          ],
          "name": "stdout"
        }
      ]
    },
    {
      "cell_type": "code",
      "metadata": {
        "id": "_3utdGk3oo4-",
        "colab_type": "code",
        "colab": {
          "base_uri": "https://localhost:8080/",
          "height": 1000
        },
        "outputId": "1b08c9e0-1b5f-4d1a-fde3-5bac78a9f254"
      },
      "source": [
        "\n",
        "import sqlite3\n",
        "\n",
        "conn = sqlite3.connect('rosterdb.sqlite')\n",
        "cur = conn.cursor()\n",
        "\n",
        "# Do some setup\n",
        "cur.executescript('''\n",
        "DROP TABLE IF EXISTS User;\n",
        "DROP TABLE IF EXISTS Member;\n",
        "DROP TABLE IF EXISTS Course;\n",
        "\n",
        "CREATE TABLE User (\n",
        "    id     INTEGER NOT NULL PRIMARY KEY AUTOINCREMENT UNIQUE,\n",
        "    name   TEXT UNIQUE\n",
        ");\n",
        "\n",
        "CREATE TABLE Course (\n",
        "    id     INTEGER NOT NULL PRIMARY KEY AUTOINCREMENT UNIQUE,\n",
        "    title  TEXT UNIQUE\n",
        ");\n",
        "\n",
        "CREATE TABLE Member (\n",
        "    user_id     INTEGER,\n",
        "    course_id   INTEGER,\n",
        "    role        INTEGER,\n",
        "    PRIMARY KEY (user_id, course_id)\n",
        ")\n",
        "''')\n",
        "\n",
        "\n",
        "fname = 'roster_data.json'\n",
        "\n",
        "# [\n",
        "#   [ \"Charley\", \"si110\", 1 ],\n",
        "#   [ \"Mea\", \"si110\", 0 ],\n",
        "\n",
        "str_data = open(fname).read()\n",
        "json_data = json.loads(str_data)\n",
        "\n",
        "for entry in json_data:\n",
        "\n",
        "    name = entry[0];\n",
        "    title = entry[1];\n",
        "    role = entry[2]\n",
        "\n",
        "    print((name, title,role))\n",
        "\n",
        "    cur.execute('''INSERT OR IGNORE INTO User (name)\n",
        "        VALUES ( ? )''', ( name, ) )\n",
        "    cur.execute('SELECT id FROM User WHERE name = ? ', (name, ))\n",
        "    user_id = cur.fetchone()[0]\n",
        "\n",
        "    cur.execute('''INSERT OR IGNORE INTO Course (title)\n",
        "        VALUES ( ? )''', ( title, ) )\n",
        "    cur.execute('SELECT id FROM Course WHERE title = ? ', (title, ))\n",
        "    course_id = cur.fetchone()[0]\n",
        "\n",
        "    cur.execute('''INSERT OR REPLACE INTO Member\n",
        "        (user_id, course_id, role) VALUES ( ?, ? ,?)''',\n",
        "        ( user_id, course_id, role) )\n",
        "\n",
        "    conn.commit()"
      ],
      "execution_count": null,
      "outputs": [
        {
          "output_type": "stream",
          "text": [
            "('Darrel', 'si110', 1)\n",
            "('Finlay', 'si110', 0)\n",
            "('Quinn', 'si110', 0)\n",
            "('Imogen', 'si110', 0)\n",
            "('Mueez', 'si110', 0)\n",
            "('Jayme', 'si110', 0)\n",
            "('Elias', 'si110', 0)\n",
            "('Chevy', 'si110', 0)\n",
            "('Anneliese', 'si110', 0)\n",
            "('Emilia', 'si110', 0)\n",
            "('Ailish', 'si110', 0)\n",
            "('Angelika', 'si110', 0)\n",
            "('Marshall', 'si110', 0)\n",
            "('Kalin', 'si110', 0)\n",
            "('Miaah', 'si110', 0)\n",
            "('Sylvain', 'si110', 0)\n",
            "('Jaime', 'si110', 0)\n",
            "('Nikash', 'si110', 0)\n",
            "('Nieve', 'si110', 0)\n",
            "('Alannah', 'si110', 0)\n",
            "('Rosalind', 'si110', 0)\n",
            "('Ammarah', 'si110', 0)\n",
            "('Anneroy', 'si110', 0)\n",
            "('Sharlyn', 'si110', 0)\n",
            "('Caydence', 'si110', 0)\n",
            "('Maksymilian', 'si110', 0)\n",
            "('Arian', 'si110', 0)\n",
            "('Aby', 'si110', 0)\n",
            "('Gianmarco', 'si110', 0)\n",
            "('Khaya', 'si110', 0)\n",
            "('Mirren', 'si110', 0)\n",
            "('Harneet', 'si110', 0)\n",
            "('Kendyn', 'si110', 0)\n",
            "('Jasveer', 'si110', 0)\n",
            "('Joan', 'si106', 1)\n",
            "('Bertie', 'si106', 0)\n",
            "('Drew', 'si106', 0)\n",
            "('Abbie', 'si106', 0)\n",
            "('Montague', 'si106', 0)\n",
            "('Levon', 'si106', 0)\n",
            "('Riley', 'si106', 0)\n",
            "('Betheny', 'si106', 0)\n",
            "('Lisa', 'si106', 0)\n",
            "('Hadyn', 'si106', 0)\n",
            "('Tiona', 'si106', 0)\n",
            "('Johannes', 'si106', 0)\n",
            "('Chase', 'si106', 0)\n",
            "('Kati', 'si106', 0)\n",
            "('Malachi', 'si106', 0)\n",
            "('Daren', 'si106', 0)\n",
            "('Arved', 'si106', 0)\n",
            "('Harman', 'si106', 0)\n",
            "('Breogan', 'si106', 0)\n",
            "('Ashton', 'si106', 0)\n",
            "('Christina', 'si106', 0)\n",
            "('Toby', 'si106', 0)\n",
            "('Saumya', 'si106', 0)\n",
            "('Rayne', 'si106', 0)\n",
            "('Muhsin', 'si106', 0)\n",
            "('Jaskaran', 'si106', 0)\n",
            "('Oluwafemi', 'si106', 0)\n",
            "('Rhian', 'si106', 0)\n",
            "('Sabriyah', 'si106', 0)\n",
            "('Marios', 'si106', 0)\n",
            "('Hillary', 'si106', 0)\n",
            "('Alasdair', 'si106', 0)\n",
            "('Eliska', 'si106', 0)\n",
            "('Malecia', 'si106', 0)\n",
            "('Tegan', 'si206', 1)\n",
            "('Serafina', 'si206', 0)\n",
            "('Janette', 'si206', 0)\n",
            "('Asritha', 'si206', 0)\n",
            "('William', 'si206', 0)\n",
            "('Broghan', 'si206', 0)\n",
            "('Maiya', 'si206', 0)\n",
            "('Fletcher', 'si206', 0)\n",
            "('Sofiane', 'si206', 0)\n",
            "('Lula', 'si206', 0)\n",
            "('Lyall', 'si206', 0)\n",
            "('Lorenz', 'si206', 0)\n",
            "('Erencem', 'si206', 0)\n",
            "('Nadeem', 'si206', 0)\n",
            "('Athena', 'si206', 0)\n",
            "('Wezi', 'si206', 0)\n",
            "('Alessia', 'si206', 0)\n",
            "('Rajan', 'si301', 1)\n",
            "('Brianna', 'si301', 0)\n",
            "('Oriana', 'si301', 0)\n",
            "('Brook', 'si301', 0)\n",
            "('Shinay', 'si301', 0)\n",
            "('Umaima', 'si301', 0)\n",
            "('Carmen', 'si301', 0)\n",
            "('Colm', 'si301', 0)\n",
            "('Abdihakim', 'si301', 0)\n",
            "('Hussnan', 'si301', 0)\n",
            "('Grahame', 'si301', 0)\n",
            "('Seatle', 'si301', 0)\n",
            "('Ikechukwu', 'si301', 0)\n",
            "('Lola', 'si301', 0)\n",
            "('Linden', 'si301', 0)\n",
            "('Keatin', 'si301', 0)\n",
            "('Pascoe', 'si301', 0)\n",
            "('Tehya', 'si301', 0)\n",
            "('Rohaan', 'si301', 0)\n",
            "('Rosie', 'si301', 0)\n",
            "('Fia', 'si310', 1)\n",
            "('Manwen', 'si310', 0)\n",
            "('Ambreen', 'si310', 0)\n",
            "('Maaz', 'si310', 0)\n",
            "('Aislinn', 'si310', 0)\n",
            "('Rydha', 'si310', 0)\n",
            "('Cian', 'si310', 0)\n",
            "('Malaeka', 'si310', 0)\n",
            "('Evan', 'si310', 0)\n",
            "('Dedeniseoluwa', 'si310', 0)\n",
            "('Sher', 'si310', 0)\n",
            "('Aman', 'si310', 0)\n",
            "('Oliwia', 'si310', 0)\n",
            "('Sarra', 'si310', 0)\n",
            "('Macauley', 'si310', 0)\n",
            "('Caitlyn', 'si310', 0)\n",
            "('Beinn', 'si310', 0)\n",
            "('Jerrick', 'si310', 0)\n",
            "('Warren', 'si310', 0)\n",
            "('Nyomi', 'si310', 0)\n",
            "('Lucille', 'si310', 0)\n",
            "('Christine', 'si310', 0)\n",
            "('Erin', 'si310', 0)\n",
            "('Penelope', 'si310', 0)\n",
            "('Nagib', 'si310', 0)\n",
            "('Hanya', 'si310', 0)\n",
            "('Brogan', 'si310', 0)\n",
            "('Aron', 'si310', 0)\n",
            "('Hareem', 'si310', 0)\n",
            "('Anesu', 'si310', 0)\n",
            "('Sheriff', 'si310', 0)\n",
            "('Nikash', 'si310', 0)\n",
            "('Betty', 'si310', 0)\n",
            "('Dara', 'si310', 0)\n",
            "('Pranav', 'si310', 0)\n",
            "('Giancarlo', 'si310', 0)\n",
            "('Anastazja', 'si310', 0)\n",
            "('Johnpaul', 'si310', 0)\n",
            "('Nelson', 'si310', 0)\n",
            "('Brandyn', 'si310', 0)\n",
            "('Jasper', 'si310', 0)\n",
            "('Zenith', 'si310', 0)\n",
            "('Arlo', 'si310', 0)\n",
            "('Ajayraj', 'si310', 0)\n",
            "('Ibrahim', 'si310', 0)\n",
            "('Nilav', 'si310', 0)\n",
            "('Pearl', 'si310', 0)\n",
            "('Evelina', 'si310', 0)\n",
            "('Elli', 'si310', 0)\n",
            "('Danya', 'si310', 0)\n",
            "('Elspeth', 'si310', 0)\n",
            "('Adrian', 'si334', 1)\n",
            "('Ambanimoh', 'si334', 0)\n",
            "('Ioannis', 'si334', 0)\n",
            "('Sulayman', 'si334', 0)\n",
            "('Lois', 'si334', 0)\n",
            "('Baighley', 'si334', 0)\n",
            "('Kavita', 'si334', 0)\n",
            "('Roxana', 'si334', 0)\n",
            "('Haillie', 'si334', 0)\n",
            "('Rafif', 'si334', 0)\n",
            "('Somaya', 'si334', 0)\n",
            "('Leia', 'si334', 0)\n",
            "('Valery', 'si334', 0)\n",
            "('Eliza', 'si334', 0)\n",
            "('Fearghus', 'si334', 0)\n",
            "('Josephine', 'si334', 0)\n",
            "('Lylakay', 'si334', 0)\n",
            "('Luighsighe', 'si334', 0)\n",
            "('Maddison', 'si334', 0)\n",
            "('Cait', 'si334', 0)\n",
            "('Ayden', 'si334', 0)\n",
            "('Kez', 'si334', 0)\n",
            "('Kyleena', 'si334', 0)\n",
            "('Eirinn', 'si334', 0)\n",
            "('Rasul', 'si363', 1)\n",
            "('Serafina', 'si363', 0)\n",
            "('Rimal', 'si363', 0)\n",
            "('Armani', 'si363', 0)\n",
            "('Keleigh', 'si363', 0)\n",
            "('Tylar', 'si363', 0)\n",
            "('Cacie', 'si363', 0)\n",
            "('Camryn', 'si363', 0)\n",
            "('Favour', 'si363', 0)\n",
            "('Jayden', 'si363', 0)\n",
            "('Peebles', 'si363', 0)\n",
            "('Leigh', 'si363', 0)\n",
            "('Kaydn', 'si363', 0)\n",
            "('Shannah', 'si363', 0)\n",
            "('Alea', 'si363', 0)\n",
            "('Ronin', 'si363', 0)\n",
            "('Annaliesse', 'si363', 0)\n",
            "('Hamzah', 'si363', 0)\n",
            "('Alexanne', 'si363', 0)\n",
            "('Oluwatobiloba', 'si363', 0)\n",
            "('Natania', 'si363', 0)\n",
            "('Priscillia', 'si363', 0)\n",
            "('Sree', 'si363', 0)\n",
            "('Anndra', 'si363', 0)\n",
            "('Rubii', 'si363', 0)\n",
            "('Cree', 'si363', 0)\n",
            "('Emanuel', 'si363', 0)\n",
            "('Husnain', 'si363', 0)\n",
            "('Rihanna', 'si363', 0)\n",
            "('Christianna', 'si363', 0)\n",
            "('Fruin', 'si363', 0)\n",
            "('Aurea', 'si363', 0)\n",
            "('Amolpreet', 'si363', 0)\n",
            "('Thia', 'si363', 0)\n",
            "('Remo', 'si363', 0)\n",
            "('Orin', 'si363', 0)\n",
            "('Shwetika', 'si363', 0)\n",
            "('Maryam', 'si364', 1)\n",
            "('Rebeca', 'si364', 0)\n",
            "('Rudy', 'si364', 0)\n",
            "('Kody', 'si364', 0)\n",
            "('Francisco', 'si364', 0)\n",
            "('Leni', 'si364', 0)\n",
            "('Luna', 'si364', 0)\n",
            "('Ryo', 'si364', 0)\n",
            "('Gabriele', 'si364', 0)\n",
            "('Sharmaine', 'si364', 0)\n",
            "('Amilie', 'si364', 0)\n",
            "('Kathrina', 'si364', 0)\n",
            "('Lauren', 'si364', 0)\n",
            "('Ashtyn', 'si364', 0)\n",
            "('Simbiat', 'si364', 0)\n",
            "('Aroob', 'si364', 0)\n",
            "('Greg', 'si364', 0)\n",
            "('Kevin', 'si364', 0)\n",
            "('Asim', 'si364', 0)\n",
            "('Cuillin', 'si364', 0)\n",
            "('Emmy', 'si364', 0)\n",
            "('Trafford', 'si364', 0)\n",
            "('Bayli', 'si364', 0)\n",
            "('Adain', 'si364', 0)\n",
            "('Rylay', 'si364', 0)\n",
            "('Kitana', 'si364', 0)\n",
            "('Isabela', 'si364', 0)\n",
            "('Mikael', 'si364', 0)\n",
            "('Zijie', 'si422', 1)\n",
            "('Wardah', 'si422', 0)\n",
            "('Alicja', 'si422', 0)\n",
            "('Gustav', 'si422', 0)\n",
            "('Yassin', 'si422', 0)\n",
            "('Calder', 'si422', 0)\n",
            "('Ayan', 'si422', 0)\n",
            "('Emlyn', 'si422', 0)\n",
            "('Ethan', 'si422', 0)\n",
            "('Pola', 'si422', 0)\n",
            "('Aryan', 'si422', 0)\n",
            "('Modu', 'si422', 0)\n",
            "('Ashleigh', 'si422', 0)\n",
            "('Kaceylee', 'si422', 0)\n",
            "('Akira', 'si422', 0)\n",
            "('Jamielee', 'si422', 0)\n",
            "('Rhyley', 'si422', 0)\n",
            "('Callin', 'si422', 0)\n",
            "('Aeryn', 'si422', 0)\n",
            "('Declyn', 'si422', 0)\n",
            "('Princess', 'si422', 0)\n",
            "('Maanav', 'si422', 0)\n",
            "('Carragh', 'si422', 0)\n",
            "('Lanakai', 'si422', 0)\n",
            "('Allister', 'si422', 0)\n",
            "('Keyra', 'si422', 0)\n",
            "('Bezalel', 'si422', 0)\n",
            "('Marcia', 'si422', 0)\n",
            "('Kalie', 'si422', 0)\n",
            "('Thirza', 'si422', 0)\n",
            "('Daymian', 'si422', 0)\n",
            "('Evey', 'si422', 0)\n",
            "('Alyas', 'si422', 0)\n",
            "('Peni', 'si422', 0)\n",
            "('Siobhan', 'si422', 0)\n",
            "('Tilly', 'si430', 1)\n",
            "('Bradly', 'si430', 0)\n",
            "('Brett', 'si430', 0)\n",
            "('Inika', 'si430', 0)\n",
            "('Zena', 'si430', 0)\n",
            "('Creag', 'si430', 0)\n",
            "('Navdeep', 'si430', 0)\n",
            "('Saiorse', 'si430', 0)\n",
            "('Kamsiyochi', 'si430', 0)\n",
            "('Ingrid', 'si430', 0)\n",
            "('Eris', 'si430', 0)\n",
            "('Annika', 'si430', 0)\n",
            "('Gracie', 'si430', 0)\n",
            "('Firaaz', 'si430', 0)\n",
            "('Viktoria', 'si430', 0)\n",
            "('Aleksandrs', 'si430', 0)\n",
            "('April', 'si430', 0)\n",
            "('Marcello', 'si430', 0)\n",
            "('Colby', 'si430', 0)\n",
            "('Enrika', 'si430', 0)\n",
            "('Abigael', 'si430', 0)\n"
          ],
          "name": "stdout"
        }
      ]
    },
    {
      "cell_type": "code",
      "metadata": {
        "id": "IhkwMhNeoo82",
        "colab_type": "code",
        "colab": {
          "base_uri": "https://localhost:8080/",
          "height": 34
        },
        "outputId": "44ab0188-96b8-454a-f2f1-3ec4f4c99553"
      },
      "source": [
        "import json\n",
        "\n",
        "sampleJson = \"\"\"{ \n",
        "   \"company\":{ \n",
        "      \"employee\":{ \n",
        "         \"name\":\"emma\",\n",
        "         \"payble\":{ \n",
        "            \"salary\":7000,\n",
        "            \"bonus\":800\n",
        "         }\n",
        "      }\n",
        "   }\n",
        "}\"\"\"\n",
        "\n",
        "obj=json.loads(sampleJson)\n",
        "\n",
        "print(obj['company']['employee']['payble']['salary'])\n",
        "\n",
        "\n",
        "\n",
        "\n",
        "\n",
        "\n"
      ],
      "execution_count": null,
      "outputs": [
        {
          "output_type": "stream",
          "text": [
            "7000\n"
          ],
          "name": "stdout"
        }
      ]
    },
    {
      "cell_type": "markdown",
      "metadata": {
        "id": "8Rarsivistru",
        "colab_type": "text"
      },
      "source": [
        "Question 6: Convert the following Vehicle Object into JSON"
      ]
    },
    {
      "cell_type": "code",
      "metadata": {
        "id": "RyHHRq5Psu29",
        "colab_type": "code",
        "colab": {
          "base_uri": "https://localhost:8080/",
          "height": 214
        },
        "outputId": "20864ea4-9457-46f7-bdb6-43cea45b5b76"
      },
      "source": [
        "import json\n",
        "\n",
        "class Vehicle:\n",
        "    def __init__(self, name, engine, price):\n",
        "        self.name = name\n",
        "        self.engine = engine\n",
        "        self.price = price\n",
        "\n",
        "vehicle = Vehicle(\"Toyota Rav4\", \"2.5L\", 32000)\n",
        "\n",
        "\n"
      ],
      "execution_count": null,
      "outputs": [
        {
          "output_type": "error",
          "ename": "TypeError",
          "evalue": "ignored",
          "traceback": [
            "\u001b[0;31m---------------------------------------------------------------------------\u001b[0m",
            "\u001b[0;31mTypeError\u001b[0m                                 Traceback (most recent call last)",
            "\u001b[0;32m<ipython-input-13-b6bf36305268>\u001b[0m in \u001b[0;36m<module>\u001b[0;34m()\u001b[0m\n\u001b[1;32m      9\u001b[0m \u001b[0mvehicle\u001b[0m \u001b[0;34m=\u001b[0m \u001b[0mVehicle\u001b[0m\u001b[0;34m(\u001b[0m\u001b[0;34m\"Toyota Rav4\"\u001b[0m\u001b[0;34m,\u001b[0m \u001b[0;34m\"2.5L\"\u001b[0m\u001b[0;34m,\u001b[0m \u001b[0;36m32000\u001b[0m\u001b[0;34m)\u001b[0m\u001b[0;34m\u001b[0m\u001b[0;34m\u001b[0m\u001b[0m\n\u001b[1;32m     10\u001b[0m \u001b[0;34m\u001b[0m\u001b[0m\n\u001b[0;32m---> 11\u001b[0;31m \u001b[0;32mfor\u001b[0m \u001b[0mi\u001b[0m \u001b[0;32min\u001b[0m \u001b[0mvehicle\u001b[0m\u001b[0;34m:\u001b[0m\u001b[0;34m\u001b[0m\u001b[0;34m\u001b[0m\u001b[0m\n\u001b[0m\u001b[1;32m     12\u001b[0m   \u001b[0mprint\u001b[0m\u001b[0;34m(\u001b[0m\u001b[0mi\u001b[0m\u001b[0;34m)\u001b[0m\u001b[0;34m\u001b[0m\u001b[0;34m\u001b[0m\u001b[0m\n",
            "\u001b[0;31mTypeError\u001b[0m: 'Vehicle' object is not iterable"
          ]
        }
      ]
    },
    {
      "cell_type": "code",
      "metadata": {
        "id": "4QCFeVXKopGB",
        "colab_type": "code",
        "colab": {}
      },
      "source": [
        ""
      ],
      "execution_count": null,
      "outputs": []
    },
    {
      "cell_type": "code",
      "metadata": {
        "id": "Jkzw4ez4opJ1",
        "colab_type": "code",
        "colab": {}
      },
      "source": [
        ""
      ],
      "execution_count": null,
      "outputs": []
    },
    {
      "cell_type": "code",
      "metadata": {
        "id": "1pHFv8IXopNo",
        "colab_type": "code",
        "colab": {}
      },
      "source": [
        ""
      ],
      "execution_count": null,
      "outputs": []
    },
    {
      "cell_type": "code",
      "metadata": {
        "id": "ldR_PdFropRv",
        "colab_type": "code",
        "colab": {}
      },
      "source": [
        ""
      ],
      "execution_count": null,
      "outputs": []
    },
    {
      "cell_type": "code",
      "metadata": {
        "id": "UEyvrOhwopVp",
        "colab_type": "code",
        "colab": {}
      },
      "source": [
        ""
      ],
      "execution_count": null,
      "outputs": []
    },
    {
      "cell_type": "code",
      "metadata": {
        "id": "6sZ3zmAMopcL",
        "colab_type": "code",
        "colab": {}
      },
      "source": [
        ""
      ],
      "execution_count": null,
      "outputs": []
    },
    {
      "cell_type": "code",
      "metadata": {
        "id": "z7r3V9Poopi8",
        "colab_type": "code",
        "colab": {}
      },
      "source": [
        ""
      ],
      "execution_count": null,
      "outputs": []
    },
    {
      "cell_type": "code",
      "metadata": {
        "id": "mlE_VLaEoppP",
        "colab_type": "code",
        "colab": {}
      },
      "source": [
        ""
      ],
      "execution_count": null,
      "outputs": []
    },
    {
      "cell_type": "code",
      "metadata": {
        "id": "BfCbxYgEoptD",
        "colab_type": "code",
        "colab": {}
      },
      "source": [
        ""
      ],
      "execution_count": null,
      "outputs": []
    },
    {
      "cell_type": "code",
      "metadata": {
        "id": "yQkv6UW_opyX",
        "colab_type": "code",
        "colab": {}
      },
      "source": [
        ""
      ],
      "execution_count": null,
      "outputs": []
    },
    {
      "cell_type": "code",
      "metadata": {
        "id": "qBiqFKCjop43",
        "colab_type": "code",
        "colab": {}
      },
      "source": [
        ""
      ],
      "execution_count": null,
      "outputs": []
    },
    {
      "cell_type": "code",
      "metadata": {
        "id": "UNBEtVOtoqAS",
        "colab_type": "code",
        "colab": {}
      },
      "source": [
        ""
      ],
      "execution_count": null,
      "outputs": []
    },
    {
      "cell_type": "code",
      "metadata": {
        "id": "riK_8-AYoqFP",
        "colab_type": "code",
        "colab": {}
      },
      "source": [
        ""
      ],
      "execution_count": null,
      "outputs": []
    },
    {
      "cell_type": "code",
      "metadata": {
        "id": "oewKqv8aop8f",
        "colab_type": "code",
        "colab": {}
      },
      "source": [
        ""
      ],
      "execution_count": null,
      "outputs": []
    },
    {
      "cell_type": "code",
      "metadata": {
        "id": "t6RUc5Cfop16",
        "colab_type": "code",
        "colab": {}
      },
      "source": [
        ""
      ],
      "execution_count": null,
      "outputs": []
    },
    {
      "cell_type": "code",
      "metadata": {
        "id": "Rt6LH2b3opxH",
        "colab_type": "code",
        "colab": {}
      },
      "source": [
        ""
      ],
      "execution_count": null,
      "outputs": []
    },
    {
      "cell_type": "code",
      "metadata": {
        "id": "iWGQ7zSlopmn",
        "colab_type": "code",
        "colab": {}
      },
      "source": [
        ""
      ],
      "execution_count": null,
      "outputs": []
    },
    {
      "cell_type": "code",
      "metadata": {
        "id": "n00w6FOXopgn",
        "colab_type": "code",
        "colab": {}
      },
      "source": [
        ""
      ],
      "execution_count": null,
      "outputs": []
    },
    {
      "cell_type": "code",
      "metadata": {
        "id": "4pFF-LweopZl",
        "colab_type": "code",
        "colab": {}
      },
      "source": [
        ""
      ],
      "execution_count": null,
      "outputs": []
    },
    {
      "cell_type": "code",
      "metadata": {
        "id": "nC6eH646opD_",
        "colab_type": "code",
        "colab": {}
      },
      "source": [
        ""
      ],
      "execution_count": null,
      "outputs": []
    },
    {
      "cell_type": "code",
      "metadata": {
        "id": "w2nACn1EopCG",
        "colab_type": "code",
        "colab": {}
      },
      "source": [
        ""
      ],
      "execution_count": null,
      "outputs": []
    }
  ]
}