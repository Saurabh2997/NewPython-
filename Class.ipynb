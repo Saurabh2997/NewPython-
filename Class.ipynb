{
  "nbformat": 4,
  "nbformat_minor": 0,
  "metadata": {
    "colab": {
      "name": "Class",
      "provenance": [],
      "authorship_tag": "ABX9TyPjtl0FMiPnFXFqj0n5yPUy",
      "include_colab_link": true
    },
    "kernelspec": {
      "name": "python3",
      "display_name": "Python 3"
    }
  },
  "cells": [
    {
      "cell_type": "markdown",
      "metadata": {
        "id": "view-in-github",
        "colab_type": "text"
      },
      "source": [
        "<a href=\"https://colab.research.google.com/github/Saurabh2997/NewPython-/blob/master/Class.ipynb\" target=\"_parent\"><img src=\"https://colab.research.google.com/assets/colab-badge.svg\" alt=\"Open In Colab\"/></a>"
      ]
    },
    {
      "cell_type": "markdown",
      "metadata": {
        "id": "D4o30_PBONJk"
      },
      "source": [
        "Write a Python class to convert an integer to a roman numeral."
      ]
    },
    {
      "cell_type": "code",
      "metadata": {
        "id": "hjf7BUr1Nn6u",
        "outputId": "1f398a5c-36f8-4f49-980a-a6e3bbf3a471",
        "colab": {
          "base_uri": "https://localhost:8080/",
          "height": 34
        }
      },
      "source": [
        "class ABC:\n",
        "    def __init__(self, dictionary):\n",
        "        self.dictionary = dictionary\n",
        "   \n",
        "    def convert(self,a):\n",
        "        self.k=a%10\n",
        "        self.d=len(str(a))\n",
        "        self.j=[]\n",
        "        self.l=1\n",
        "        s=[]\n",
        "        for k in range(self.d):\n",
        "            self.c=a%10\n",
        "            self.j.append(self.c*self.l)\n",
        "            a=int(a/10)\n",
        "            self.l*=10\n",
        "        for i in self.j:\n",
        "            for v,e in self.dictionary.items():\n",
        "                if e == i:\n",
        "                    s.append(v)\n",
        "        s.reverse()\n",
        "        for i in s:\n",
        "            print(i,end=\"\")\n",
        "            \n",
        "dictionary = {\"M\":1000, \"CM\":900, \"D\":500, \"CD\":400,\"C\":100, \"XC\":90, \"L\":50, \"XL\":40,\"X\":10, \"IX\":9, \"V\":5, \"IV\":4,\"I\":1,'II':2,\"III\":3,\"VI\":6,'VII':7,\"VIII\":8\n",
        "}           \n",
        "tst=ABC(dictionary)\n",
        "tst.convert(67)           \n",
        "        \n",
        "\n",
        "        # Not Correct code"
      ],
      "execution_count": null,
      "outputs": [
        {
          "output_type": "stream",
          "text": [
            "VII"
          ],
          "name": "stdout"
        }
      ]
    },
    {
      "cell_type": "markdown",
      "metadata": {
        "id": "P6EfTmaiRN6K"
      },
      "source": [
        "Write a Python class named Circle constructed by a radius and two methods which will compute the area and the perimeter of a circle"
      ]
    },
    {
      "cell_type": "code",
      "metadata": {
        "id": "F-4AnwiMN8TA",
        "outputId": "07c02156-1d33-48e9-c202-8e111fa85b57",
        "colab": {
          "base_uri": "https://localhost:8080/",
          "height": 51
        }
      },
      "source": [
        "class Circle():\n",
        "    def __init__(self,r):\n",
        "        self.a=r\n",
        "    def area(self):\n",
        "        return (3.14*self.a*self.a)\n",
        "    def perimeter(self):\n",
        "        return (2*3.14*self.a)\n",
        "a=Circle(5)\n",
        "print(a.area())\n",
        "k=a.perimeter()\n",
        "j=format(k,'.2f')\n",
        "print(j)"
      ],
      "execution_count": null,
      "outputs": [
        {
          "output_type": "stream",
          "text": [
            "78.5\n",
            "31.40\n"
          ],
          "name": "stdout"
        }
      ]
    },
    {
      "cell_type": "markdown",
      "metadata": {
        "id": "qT1sb3LYfAW_"
      },
      "source": [
        " Write a Python class to implement pow(x, n)"
      ]
    },
    {
      "cell_type": "code",
      "metadata": {
        "id": "QObfaMVgN8W_",
        "outputId": "e3d58cab-b0e6-4106-edd3-e231dc98bfbc",
        "colab": {
          "base_uri": "https://localhost:8080/",
          "height": 34
        }
      },
      "source": [
        "class power():\n",
        "    def pow(self,a,z):\n",
        "        self.p=a\n",
        "        self.e=z\n",
        "        return print(self.p**self.e)\n",
        "\n",
        "k=power()\n",
        "k.pow(10,2)"
      ],
      "execution_count": null,
      "outputs": [
        {
          "output_type": "stream",
          "text": [
            "100\n"
          ],
          "name": "stdout"
        }
      ]
    },
    {
      "cell_type": "markdown",
      "metadata": {
        "id": "hbrSdmVu8d5l"
      },
      "source": [
        "Write a Python class to reverse a string word by word."
      ]
    },
    {
      "cell_type": "code",
      "metadata": {
        "id": "8lS3jjzsN8lk",
        "outputId": "38ebb8d7-22ff-428f-b38b-f6d1f7c32ae0",
        "colab": {
          "base_uri": "https://localhost:8080/",
          "height": 34
        }
      },
      "source": [
        "class ABC():\n",
        "    def __init__(self,s):\n",
        "        self.a=s.split(\" \")\n",
        "        return print(self.a[::-1])\n",
        "\n",
        "k=ABC('Saurabh yadav')\n"
      ],
      "execution_count": null,
      "outputs": [
        {
          "output_type": "stream",
          "text": [
            "['yadav', 'Saurabh']\n"
          ],
          "name": "stdout"
        }
      ]
    },
    {
      "cell_type": "markdown",
      "metadata": {
        "id": "AVy0Vhg9COh6"
      },
      "source": [
        "Write a Python class named Rectangle constructed by a length and width and a method which will compute the area of a rectangle"
      ]
    },
    {
      "cell_type": "code",
      "metadata": {
        "id": "o_p2EYYuN8pk",
        "outputId": "136995de-e645-471a-cf77-976736f449be",
        "colab": {
          "base_uri": "https://localhost:8080/",
          "height": 34
        }
      },
      "source": [
        "class rect():\n",
        "    def __init__(self,a,b):\n",
        "        self.l=a\n",
        "        self.b=b\n",
        "\n",
        "    def area(self):\n",
        "        return print('Area of Rectangle:',self.l*self.b)\n",
        "\n",
        "a=rect(4,5)\n",
        "a.area()"
      ],
      "execution_count": null,
      "outputs": [
        {
          "output_type": "stream",
          "text": [
            "Area of Rectangle: 20\n"
          ],
          "name": "stdout"
        }
      ]
    },
    {
      "cell_type": "markdown",
      "metadata": {
        "id": "uXtirGOj9lmk"
      },
      "source": [
        "Make Class Triangle and make method that Compare all the angle sum is 180. "
      ]
    },
    {
      "cell_type": "code",
      "metadata": {
        "id": "TtS0_dBZN8wb",
        "outputId": "007c275a-6ca7-43dd-be20-1f00907d2f95",
        "colab": {
          "base_uri": "https://localhost:8080/",
          "height": 51
        }
      },
      "source": [
        "class Triangle:\n",
        "    number_of_sides = 3\n",
        "    def __init__(self,angle1,angle2,angle3):\n",
        "        self.angle1=angle1\n",
        "        self.angle2=angle2\n",
        "        self.angle3=angle3\n",
        "    def check_angles(self):\n",
        "        if self.angle1 + self.angle2 + self.angle3 == 180:\n",
        "            return (print('It is Triangle '))\n",
        "        else:\n",
        "            return (print('It is not a Triangle'))\n",
        "\n",
        "k=Triangle(60,30,90)\n",
        "k.check_angles()\n",
        "k.number_of_sides\n",
        "    "
      ],
      "execution_count": null,
      "outputs": [
        {
          "output_type": "stream",
          "text": [
            "It is Triangle \n"
          ],
          "name": "stdout"
        },
        {
          "output_type": "execute_result",
          "data": {
            "text/plain": [
              "3"
            ]
          },
          "metadata": {
            "tags": []
          },
          "execution_count": 10
        }
      ]
    },
    {
      "cell_type": "markdown",
      "metadata": {
        "id": "EkIa8Qy4H1fg"
      },
      "source": [
        "Define a class called Songs, it will show the lyrics of a song. Its __init__() method should have two arguments:selfanf lyrics.lyricsis a list. Inside your class create a method called sing_me_a_songthat prints each element of lyricson his own line. Define a varible:"
      ]
    },
    {
      "cell_type": "code",
      "metadata": {
        "id": "FwiaRfrkN84L",
        "outputId": "18f68364-d11d-4059-c3a9-d092aec14868",
        "colab": {
          "base_uri": "https://localhost:8080/",
          "height": 68
        }
      },
      "source": [
        "class Songs:\n",
        "    def __init__(self,lyrics):\n",
        "        self.ly=lyrics\n",
        "    def sing_me_a_song(self):\n",
        "        for i in self.ly:\n",
        "            print(i)\n",
        "\n",
        "happy_bday = Songs([\"May god bless you, \",\n",
        "                   \"Have a sunshine on you,\",\n",
        "                   \"Happy Birthday to you !\"])\n",
        "\n",
        "happy_bday.sing_me_a_song()\n"
      ],
      "execution_count": null,
      "outputs": [
        {
          "output_type": "stream",
          "text": [
            "May god bless you, \n",
            "Have a sunshine on you,\n",
            "Happy Birthday to you !\n"
          ],
          "name": "stdout"
        }
      ]
    },
    {
      "cell_type": "markdown",
      "metadata": {
        "id": "9MOYLolqUq0s"
      },
      "source": [
        "Exercise Question 1: Create a Vehicle class with max_speed and mileage instance attributes\n"
      ]
    },
    {
      "cell_type": "code",
      "metadata": {
        "id": "8UgRZQENN89I",
        "outputId": "6d3718f5-d25c-4050-db59-55bc543c1305",
        "colab": {
          "base_uri": "https://localhost:8080/",
          "height": 34
        }
      },
      "source": [
        "class Vehicle:\n",
        "    def __init__(self,max_speed,mileage):\n",
        "        self.speed=max_speed\n",
        "        self.mil=mileage\n",
        "    \n",
        "A=Vehicle(250,25)\n",
        "print(A.speed,A.mil)"
      ],
      "execution_count": null,
      "outputs": [
        {
          "output_type": "stream",
          "text": [
            "250 25\n"
          ],
          "name": "stdout"
        }
      ]
    },
    {
      "cell_type": "markdown",
      "metadata": {
        "id": "xZnbdzuTV0wC"
      },
      "source": [
        "Exercise Question 3: Create child class Bus that will inherit all of the variables and methods of the Vehicle class"
      ]
    },
    {
      "cell_type": "code",
      "metadata": {
        "id": "HaanIbi-tEO7",
        "outputId": "ff3e03c4-8cd1-4aa2-86a8-5558297c5ae5",
        "colab": {
          "base_uri": "https://localhost:8080/",
          "height": 68
        }
      },
      "source": [
        "class Vehicle:\n",
        "\n",
        "    def __init__(self, name, max_speed, mileage):\n",
        "        self.name = name\n",
        "        self.max_speed = max_speed\n",
        "        self.mileage = mileage\n",
        "\n",
        "class Bus(Vehicle):\n",
        "    def __init__(self,name, max_speed, mileage,_type_):\n",
        "        super().__init__(name, max_speed, mileage)\n",
        "        self._type_=_type_\n",
        "\n",
        "a=Bus('Volvo',100,12,'A/c Sleep')\n",
        "print(a.name)\n",
        "print(a._type_)\n",
        "print(a.max_speed)\n"
      ],
      "execution_count": null,
      "outputs": [
        {
          "output_type": "stream",
          "text": [
            "Volvo\n",
            "A/c Sleep\n",
            "100\n"
          ],
          "name": "stdout"
        }
      ]
    },
    {
      "cell_type": "markdown",
      "metadata": {
        "id": "YGvch8GPFthQ"
      },
      "source": [
        "Create a Bus class that inherits from the Vehicle class. Give the capacity argument of Bus.seating_capacity() a default value of 50."
      ]
    },
    {
      "cell_type": "code",
      "metadata": {
        "id": "Kw7YHsV_N9A5",
        "outputId": "e5d968aa-069c-46cf-8967-eddcf75c877b",
        "colab": {
          "base_uri": "https://localhost:8080/",
          "height": 51
        }
      },
      "source": [
        "class Vehicle:\n",
        "\n",
        "    def __init__(self, name, max_speed, mileage):\n",
        "        self.name = name\n",
        "        self.max_speed = max_speed\n",
        "        self.mileage = mileage\n",
        "    def seating_capacity(self,a):\n",
        "        self.cap=a\n",
        "        return print('The capacity of {} is {} passenger.'.format(self.name,str(self.cap)))\n",
        "\n",
        "class Bus(Vehicle):\n",
        "    def __init__(self,name, max_speed, mileage,_type_):\n",
        "        super().__init__(name, max_speed, mileage)\n",
        "        self._type_=_type_\n",
        "    def seating_capacity(self,a=10):\n",
        "        super().seating_capacity(a)\n",
        "    \n",
        "\n",
        "\n",
        "\n",
        "b=Bus('Volvo',110,13,'A/c')\n",
        "b.seating_capacity(100)\n",
        "a=Vehicle('Car',150,20)\n",
        "a.seating_capacity(5)\n"
      ],
      "execution_count": null,
      "outputs": [
        {
          "output_type": "stream",
          "text": [
            "The capacity of Volvo is 100 passenger.\n",
            "The capacity of Car is 5 passenger.\n"
          ],
          "name": "stdout"
        }
      ]
    },
    {
      "cell_type": "markdown",
      "metadata": {
        "id": "FBBiMy8uTA0g"
      },
      "source": [
        "Exercise Question 5: Define property that should have the same value for every class instance\n",
        "Define a class attribute”color” with a default value white. I.e., Every Vehicle should be white."
      ]
    },
    {
      "cell_type": "code",
      "metadata": {
        "id": "NnCKKhVsN9Fk",
        "outputId": "612a7f2f-ff42-44cd-a651-e8a18218eddd",
        "colab": {
          "base_uri": "https://localhost:8080/",
          "height": 35
        }
      },
      "source": [
        "class Vehicle:\n",
        "    color='White'\n",
        "\n",
        "    def __init__(self, name, max_speed, mileage):\n",
        "        self.name = name\n",
        "        self.max_speed = max_speed\n",
        "        self.mileage = mileage\n",
        "    def seating_capacity(self,a):\n",
        "        self.cap=a\n",
        "        return print('The capacity of {} is {} passenger.'.format(self.name,str(self.cap)))\n",
        "\n",
        "class Bus(Vehicle):\n",
        "    def __init__(self,name, max_speed, mileage,_type_):\n",
        "        super().__init__(name, max_speed, mileage)\n",
        "        self._type_=_type_\n",
        "    def seating_capacity(self,a=10):\n",
        "        super().seating_capacity(a)\n",
        "\n",
        "a=Vehicle('Car',180,23)\n",
        "a.color\n",
        "b=Bus('Volvo',100,10,'A\\c')\n",
        "b.color\n"
      ],
      "execution_count": null,
      "outputs": [
        {
          "output_type": "execute_result",
          "data": {
            "application/vnd.google.colaboratory.intrinsic+json": {
              "type": "string"
            },
            "text/plain": [
              "'White'"
            ]
          },
          "metadata": {
            "tags": []
          },
          "execution_count": 1
        }
      ]
    },
    {
      "cell_type": "markdown",
      "metadata": {
        "id": "sMdc-3ISzcw5"
      },
      "source": [
        "Create a Bus child class that inherits from the Vehicle class. The default fare charge of any vehicle is seating capacity * 100. If Vehicle is Bus instance, we need to add an extra 10% on full fare as a maintenance charge. So total fare for bus instance will become the final amount = total fare + 10% of the total fare."
      ]
    },
    {
      "cell_type": "code",
      "metadata": {
        "id": "y5NW8BrwN9J6",
        "outputId": "68a70878-8e33-4ecb-c46e-6eb107d1ad87",
        "colab": {
          "base_uri": "https://localhost:8080/",
          "height": 85
        }
      },
      "source": [
        "class Vehicle:\n",
        "    color='White'\n",
        "\n",
        "    def __init__(self, name, max_speed, mileage):\n",
        "        self.name = name\n",
        "        self.max_speed = max_speed\n",
        "        self.mileage = mileage\n",
        "    def seating_capacity(self,a):\n",
        "        self.cap=a\n",
        "        return print('The capacity of {} is {} passenger.'.format(self.name,str(self.cap)))\n",
        "    def charge(self):\n",
        "        self.res=self.cap*100\n",
        "        return self.res\n",
        "    \n",
        "\n",
        "class Bus(Vehicle):\n",
        "    def __init__(self,name, max_speed, mileage,_type_=None):\n",
        "        super().__init__(name, max_speed, mileage)\n",
        "        self._type_=_type_\n",
        "    def seating_capacity(self,a=50):\n",
        "        super().seating_capacity(a)\n",
        "    def charge(self):\n",
        "        super().charge()\n",
        "        self.bres=self.res+self.res*0.1\n",
        "        return self.bres\n",
        "\n",
        "b=Bus('Volvo',150,12)\n",
        "b.seating_capacity()\n",
        "a=Vehicle('Car',180,23)\n",
        "a.seating_capacity(6)\n",
        "print('the fare for {} is {}'.format(a.name,a.charge()))\n",
        "print('the fare for {} is {}'.format(b.name,b.charge()))\n",
        "\n",
        "\n"
      ],
      "execution_count": null,
      "outputs": [
        {
          "output_type": "stream",
          "text": [
            "The capacity of Volvo is 50 passenger.\n",
            "The capacity of Car is 6 passenger.\n",
            "the fare for Car is 600\n",
            "the fare for Volvo is 5500.0\n"
          ],
          "name": "stdout"
        }
      ]
    },
    {
      "cell_type": "markdown",
      "metadata": {
        "id": "ZDX9wmPvklj5"
      },
      "source": [
        "Exercise Question 8: Determine if School_bus is also an instance of the Vehicle class\n"
      ]
    },
    {
      "cell_type": "code",
      "metadata": {
        "id": "NY1ZEdsFN9cU",
        "outputId": "c443d8b8-e6f1-4747-8383-5242fdeb6d86",
        "colab": {
          "base_uri": "https://localhost:8080/",
          "height": 34
        }
      },
      "source": [
        "class Vehicle:\n",
        "    color='White'\n",
        "\n",
        "    def __init__(self, name, max_speed, mileage):\n",
        "        self.name = name\n",
        "        self.max_speed = max_speed\n",
        "        self.mileage = mileage\n",
        "    def seating_capacity(self,a):\n",
        "        self.cap=a\n",
        "        return print('The capacity of {} is {} passenger.'.format(self.name,str(self.cap)))\n",
        "    def charge(self):\n",
        "        self.res=self.cap*100\n",
        "        return self.res\n",
        "    \n",
        "class Bus(Vehicle):\n",
        "    def __init__(self,name, max_speed, mileage,_type_=None):\n",
        "        super().__init__(name, max_speed, mileage)\n",
        "        self._type_=_type_\n",
        "    def seating_capacity(self,a=50):\n",
        "        super().seating_capacity(a)\n",
        "    def charge(self):\n",
        "        super().charge()\n",
        "        self.bres=self.res+self.res*0.1\n",
        "        return self.bres\n",
        "\n",
        "b=Bus('Volvo',180,15)\n",
        "\n",
        "print(isinstance(b,Vehicle))\n",
        "\n",
        "\n"
      ],
      "execution_count": null,
      "outputs": [
        {
          "output_type": "stream",
          "text": [
            "True\n"
          ],
          "name": "stdout"
        }
      ]
    },
    {
      "cell_type": "markdown",
      "metadata": {
        "id": "-xADDP-C_mRo"
      },
      "source": [
        "Exercise 41. Rectangle class: ||  \n",
        "Solution\n",
        "Write a Rectangle class in Python language, allowing you to build a rectangle with length and width attributes.\n",
        "Create a Perimeter() method to calculate the perimeter of the rectangle and a Area() method to calculate the area of ​​the rectangle.\n",
        "Create a method display() that display the length, width, perimeter and area of an object created using an instantiation on rectangle class.\n",
        "Create a Parallelepipede child class inheriting from the Rectangle class and with a height attribute and another Volume() method to calculate the volume of the Parallelepiped."
      ]
    },
    {
      "cell_type": "code",
      "metadata": {
        "id": "hlhAZPGhN9hj",
        "outputId": "3d5ffcf0-1a70-4d37-c527-9d21aa04553f",
        "colab": {
          "base_uri": "https://localhost:8080/",
          "height": 51
        }
      },
      "source": [
        "class Rectangle:\n",
        "    def __init__(self,Length,width):\n",
        "        self.l=Length\n",
        "        self.b=width\n",
        "\n",
        "    def Perimeter(self):\n",
        "        self.res=(2*self.l)+(2*self.b)\n",
        "        return self.res\n",
        "\n",
        "    def Area(self):\n",
        "        self.c=self.l*self.b\n",
        "        return self.c\n",
        "    \n",
        "    def Display(self):\n",
        "        return print('Length is {} Breadth is {} Area :{} , Perimeter:{}'.format(self.l,self.b,self.c,self.res))\n",
        "\n",
        "class Parallelepiped(Rectangle):\n",
        "    \n",
        "    def __init__(self,Length,width,height):\n",
        "        super().__init__(Length,width)\n",
        "        self.h=height\n",
        "        \n",
        "    def Volume(self):\n",
        "        return self.h*self.l*self.b\n",
        "\n",
        "\n",
        "a=Rectangle(5,6)\n",
        "a.Perimeter()\n",
        "a.Area()   \n",
        "a.Display()\n",
        "b=Parallelepiped(4,5,4)     \n",
        "print('Volume:', b.Volume())\n",
        "\n"
      ],
      "execution_count": null,
      "outputs": [
        {
          "output_type": "stream",
          "text": [
            "Length is 5 Breadth is 6 Area :30 , Perimeter:22\n",
            "Volume: 80\n"
          ],
          "name": "stdout"
        }
      ]
    },
    {
      "cell_type": "markdown",
      "metadata": {
        "id": "7HoaqKaK0hAL"
      },
      "source": [
        "Exercice 42: Person class and child Student class ||  Solution\n",
        "Create a Python class Person with attributes: name and age of type string.\n",
        "Create a display() method that displays the name and age of an object created via the Person class.\n",
        "Create a child class Student  which inherits from the Person class and which also has a section attribute.\n",
        "Create a method displayStudent() that displays the name, age and section of an object created via the Student class.\n",
        "Create a student object via an instantiation on the Student class and then test the displayStudent method."
      ]
    },
    {
      "cell_type": "code",
      "metadata": {
        "id": "Tq6wzSTJN9qM",
        "outputId": "5a48d754-293a-4fce-9612-1852347763f7",
        "colab": {
          "base_uri": "https://localhost:8080/",
          "height": 102
        }
      },
      "source": [
        "class Person:\n",
        "    def __init__(self,name,age):\n",
        "        self.n=name\n",
        "        self.a=age\n",
        "    def display(self):\n",
        "        return print('Name:'+self.n+'Age:'+str(self.a))\n",
        "\n",
        "class Student(Person):\n",
        "    def __init__(self,name,age,section):\n",
        "        super().__init__(name,age)\n",
        "        self.section=section\n",
        "\n",
        "    def displayStudent(self):\n",
        "        print(\"Student name : \", self.n)\n",
        "        print(\"Student age = \", str(self.a))\n",
        "        print(\"Student section = \", self.section)\n",
        "\n",
        "\n",
        "P = Person(\"Tomas Wild\", 37)\n",
        "P.display()\n",
        "print(\"-------------------------------\")\n",
        "S = Student(\"Albert\", 23 , \"Mathematics\")\n",
        "S.displayStudent()\n",
        "\n"
      ],
      "execution_count": null,
      "outputs": [
        {
          "output_type": "stream",
          "text": [
            "Name:Tomas WildAge:37\n",
            "-------------------------------\n",
            "Student name :  Albert\n",
            "Student age =  23\n",
            "Student section =  Mathematics\n"
          ],
          "name": "stdout"
        }
      ]
    },
    {
      "cell_type": "code",
      "metadata": {
        "id": "6vIe9FW_N9tj",
        "outputId": "09a8e6b9-0713-4a27-c096-77b775383d8a",
        "colab": {
          "base_uri": "https://localhost:8080/",
          "height": 119
        }
      },
      "source": [
        "class Person:\n",
        "    # define constructor with name and age as parameters\n",
        "    def __init__(self, name, age):\n",
        "        self.name = name\n",
        "        self.age = age\n",
        "    # create display method fro Person class\n",
        "    def display(self):\n",
        "        print(\"Person name : \", self.name)\n",
        "        print(\"Person age = \", self.age)\n",
        "    \n",
        "# create child class Student of Person class\n",
        "class Student(Person):\n",
        "    # define constructor of Student class with section additional parameters \n",
        "    def __init__(self, name , age , section):\n",
        "        Person.__init__(self,name, age)\n",
        "        self.section = section\n",
        "    \n",
        "    # Create display method for Student class\n",
        "    def displayStudent(self):\n",
        "        print(\"Student name : \", self.name)\n",
        "        print(\"Student age = \", self.age)\n",
        "        print(\"Student section = \", self.section)\n",
        "    \n",
        "# Testing Person class\n",
        "P = Person(\"Tomas Wild\", 37)\n",
        "P.display()\n",
        "print(\"-------------------------------\")\n",
        "S = Student(\"Albert\", 23 , \"Mathematics\")\n",
        "S.displayStudent()\n"
      ],
      "execution_count": null,
      "outputs": [
        {
          "output_type": "stream",
          "text": [
            "Person name :  Tomas Wild\n",
            "Person age =  37\n",
            "-------------------------------\n",
            "Student name :  Albert\n",
            "Student age =  23\n",
            "Student section =  Mathematics\n"
          ],
          "name": "stdout"
        }
      ]
    },
    {
      "cell_type": "code",
      "metadata": {
        "id": "CQLjrv01N90o"
      },
      "source": [
        ""
      ],
      "execution_count": null,
      "outputs": []
    },
    {
      "cell_type": "markdown",
      "metadata": {
        "id": "mgSOeGaeqm0H"
      },
      "source": [
        "Exercise 43. Bank Account class: ||\n",
        "\n",
        "Create a Python class called BankAccount which represents a bank account, having as attributes: accountNumber (numeric type), name (name of the account owner as string type), balance.\n",
        "Create a constructor with parameters: accountNumber, name, balance.\n",
        "Create a Deposit() method which manages the deposit actions.\n",
        "Create a Withdrawal() method  which manages withdrawals actions.\n",
        "Create an bankFees() method to apply the bank fees with a percentage of 5% of the balance account.\n",
        "Create a display() method to display account details.\n",
        "Give the complete code for the  BankAccount class."
      ]
    },
    {
      "cell_type": "code",
      "metadata": {
        "id": "aChIZUWsN99F",
        "outputId": "e2544357-d1be-42a5-b912-4273a236836b",
        "colab": {
          "base_uri": "https://localhost:8080/",
          "height": 272
        }
      },
      "source": [
        "class BankAccount:\n",
        "    def __init__(self,accountNumber,name,balance):\n",
        "        self.an=int(accountNumber)\n",
        "        self.name=name\n",
        "        self.balance=balance\n",
        "    \n",
        "    def Deposit(self,amount):\n",
        "        self.balance=self.balance+amount\n",
        "        return self.balance\n",
        "        \n",
        "    def Withdrawal(self,amt):\n",
        "        self.balance=self.balance-amt\n",
        "        return self.balance\n",
        "\n",
        "    def bankFees(self):\n",
        "        self.res=self.balance*0.05\n",
        "        return self.res\n",
        "\n",
        "    def Display(self):\n",
        "        print('Name of Account Holder: ',self.name)\n",
        "        print('Account Number: ',self.an)\n",
        "        print('Total Amount in Balance : ',self.balance)\n",
        "        print('Bank Fees : ',self.res)\n",
        "        print('-----------------------------------------')\n",
        "\n",
        "\n",
        "a=BankAccount(1654789,'Raju',10000)\n",
        "a.bankFees()\n",
        "a.Display()\n",
        "a.Deposit(5000)\n",
        "a.bankFees()\n",
        "a.Display()\n",
        "a.Withdrawal(1000)\n",
        "a.bankFees()\n",
        "a.Display()\n",
        "\n",
        "\n",
        "\n"
      ],
      "execution_count": null,
      "outputs": [
        {
          "output_type": "stream",
          "text": [
            "Name of Account Holder:  Raju\n",
            "Account Number:  1654789\n",
            "Total Amount in Balance :  10000\n",
            "Bank Fees :  500.0\n",
            "-----------------------------------------\n",
            "Name of Account Holder:  Raju\n",
            "Account Number:  1654789\n",
            "Total Amount in Balance :  15000\n",
            "Bank Fees :  750.0\n",
            "-----------------------------------------\n",
            "Name of Account Holder:  Raju\n",
            "Account Number:  1654789\n",
            "Total Amount in Balance :  14000\n",
            "Bank Fees :  700.0\n",
            "-----------------------------------------\n"
          ],
          "name": "stdout"
        }
      ]
    },
    {
      "cell_type": "markdown",
      "metadata": {
        "id": "41isessP5fla"
      },
      "source": [
        "Exercise 44. Circle class\n",
        "1 - Define a Circle class allowing to create a circleC (O, r) with center O(a, b) and radius r using the constructor:\n",
        "    def __init__(self,a,b,r):         \n",
        "        self.a = a         \n",
        "        self.b = b         \n",
        "        self.r = r\n",
        "2 - Define a Area() method of the class which calculates the area of ​​the circle.\n",
        "3 - Define a Perimeter() method of the class which allows you to calculate the perimeter of the circle.\n",
        "4 - Define a testBelongs() method of the class which allows to test whether a point A(x, y) belongs to the circle C(O, r) or not"
      ]
    },
    {
      "cell_type": "code",
      "metadata": {
        "id": "0y2GkVjnN-B6",
        "outputId": "560fa223-17cf-4da8-9315-83d433b0aea6",
        "colab": {
          "base_uri": "https://localhost:8080/",
          "height": 85
        }
      },
      "source": [
        "class Circle:\n",
        "    def __init__(self,a,b,r):\n",
        "\n",
        "        self.a = a         \n",
        "        self.b = b         \n",
        "        self.r = r\n",
        "\n",
        "    def area(self):\n",
        "        return 3.14*(self.r)**2\n",
        "\n",
        "    def Perimeter(self):\n",
        "        return 2*3.14*self.r\n",
        "\n",
        "    def testBelongs(self,a,b):\n",
        "        self.x=a\n",
        "        self.y=b\n",
        "        if (self.x-self.a)**2 + (self.y-self.b)**2 <= self.r**2:\n",
        "            print('Point lies in the circle.')\n",
        "        else:\n",
        "            print('Point lies outside the circle.')\n",
        "        \n",
        "\n",
        "a=Circle(0,0,5)\n",
        "print('Radius of Circle:',a.r)\n",
        "print('Area of Circle: ',a.area())\n",
        "print('Perimeter of Circle: {:.2f} '.format(a.Perimeter()))\n",
        "a.testBelongs(1,1)\n",
        "\n",
        "\n",
        "    "
      ],
      "execution_count": 17,
      "outputs": [
        {
          "output_type": "stream",
          "text": [
            "Radius of Circle: 5\n",
            "Area of Circle:  78.5\n",
            "Perimeter of Circle: 31.40 \n",
            "Point lies in the circle.\n"
          ],
          "name": "stdout"
        }
      ]
    },
    {
      "cell_type": "code",
      "metadata": {
        "id": "J2Y-T0-8N-ZW",
        "outputId": "078a14e6-9041-4139-c568-dfe23ad9dfb6",
        "colab": {
          "base_uri": "https://localhost:8080/",
          "height": 34
        }
      },
      "source": [
        "class Solution:\n",
        "    def twoSum(self, nums, target):\n",
        "        a=nums\n",
        "        t=target\n",
        "        for i in range(len(a)):\n",
        "            k=a[i]\n",
        "            for j in range(len(a)):\n",
        "                if i == j:\n",
        "                    continue\n",
        "                elif a[i]+a[j]==target:\n",
        "                    z=[]\n",
        "                    z.append(a[i])\n",
        "                    z.append(a[j])\n",
        "                    \n",
        "        print(type(z))\n",
        "    \n",
        "    \n",
        "a=Solution()\n",
        "a.twoSum([2,7,11,15],9)"
      ],
      "execution_count": 26,
      "outputs": [
        {
          "output_type": "stream",
          "text": [
            "<class 'list'>\n"
          ],
          "name": "stdout"
        }
      ]
    },
    {
      "cell_type": "code",
      "metadata": {
        "id": "-2RN1IutN-dv"
      },
      "source": [
        ""
      ],
      "execution_count": null,
      "outputs": []
    },
    {
      "cell_type": "code",
      "metadata": {
        "id": "y-r-NpOVN-rB"
      },
      "source": [
        ""
      ],
      "execution_count": null,
      "outputs": []
    },
    {
      "cell_type": "code",
      "metadata": {
        "id": "rhJzSe26N-ub"
      },
      "source": [
        ""
      ],
      "execution_count": null,
      "outputs": []
    },
    {
      "cell_type": "code",
      "metadata": {
        "id": "ziO9bUAjN9xo"
      },
      "source": [
        ""
      ],
      "execution_count": null,
      "outputs": []
    },
    {
      "cell_type": "code",
      "metadata": {
        "id": "jRct5p90N82y"
      },
      "source": [
        ""
      ],
      "execution_count": null,
      "outputs": []
    },
    {
      "cell_type": "code",
      "metadata": {
        "id": "kWb64IkJN8tZ"
      },
      "source": [
        ""
      ],
      "execution_count": null,
      "outputs": []
    }
  ]
}