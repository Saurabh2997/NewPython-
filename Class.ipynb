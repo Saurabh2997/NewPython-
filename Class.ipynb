{
  "nbformat": 4,
  "nbformat_minor": 0,
  "metadata": {
    "colab": {
      "name": "Class",
      "provenance": [],
      "authorship_tag": "ABX9TyPkKBoMdOOPP1lnX9HSbGfQ",
      "include_colab_link": true
    },
    "kernelspec": {
      "name": "python3",
      "display_name": "Python 3"
    }
  },
  "cells": [
    {
      "cell_type": "markdown",
      "metadata": {
        "id": "view-in-github",
        "colab_type": "text"
      },
      "source": [
        "<a href=\"https://colab.research.google.com/github/Saurabh2997/NewPython-/blob/master/Class.ipynb\" target=\"_parent\"><img src=\"https://colab.research.google.com/assets/colab-badge.svg\" alt=\"Open In Colab\"/></a>"
      ]
    },
    {
      "cell_type": "markdown",
      "metadata": {
        "id": "D4o30_PBONJk"
      },
      "source": [
        "Write a Python class to convert an integer to a roman numeral."
      ]
    },
    {
      "cell_type": "code",
      "metadata": {
        "id": "hjf7BUr1Nn6u",
        "outputId": "1f398a5c-36f8-4f49-980a-a6e3bbf3a471",
        "colab": {
          "base_uri": "https://localhost:8080/",
          "height": 34
        }
      },
      "source": [
        "class ABC:\n",
        "    def __init__(self, dictionary):\n",
        "        self.dictionary = dictionary\n",
        "   \n",
        "    def convert(self,a):\n",
        "        self.k=a%10\n",
        "        self.d=len(str(a))\n",
        "        self.j=[]\n",
        "        self.l=1\n",
        "        s=[]\n",
        "        for k in range(self.d):\n",
        "            self.c=a%10\n",
        "            self.j.append(self.c*self.l)\n",
        "            a=int(a/10)\n",
        "            self.l*=10\n",
        "        for i in self.j:\n",
        "            for v,e in self.dictionary.items():\n",
        "                if e == i:\n",
        "                    s.append(v)\n",
        "        s.reverse()\n",
        "        for i in s:\n",
        "            print(i,end=\"\")\n",
        "            \n",
        "dictionary = {\"M\":1000, \"CM\":900, \"D\":500, \"CD\":400,\"C\":100, \"XC\":90, \"L\":50, \"XL\":40,\"X\":10, \"IX\":9, \"V\":5, \"IV\":4,\"I\":1,'II':2,\"III\":3,\"VI\":6,'VII':7,\"VIII\":8\n",
        "}           \n",
        "tst=ABC(dictionary)\n",
        "tst.convert(67)           \n",
        "        \n",
        "\n",
        "        # Not Correct code"
      ],
      "execution_count": null,
      "outputs": [
        {
          "output_type": "stream",
          "text": [
            "VII"
          ],
          "name": "stdout"
        }
      ]
    },
    {
      "cell_type": "markdown",
      "metadata": {
        "id": "P6EfTmaiRN6K"
      },
      "source": [
        "Write a Python class named Circle constructed by a radius and two methods which will compute the area and the perimeter of a circle"
      ]
    },
    {
      "cell_type": "code",
      "metadata": {
        "id": "F-4AnwiMN8TA",
        "outputId": "07c02156-1d33-48e9-c202-8e111fa85b57",
        "colab": {
          "base_uri": "https://localhost:8080/",
          "height": 51
        }
      },
      "source": [
        "class Circle():\n",
        "    def __init__(self,r):\n",
        "        self.a=r\n",
        "    def area(self):\n",
        "        return (3.14*self.a*self.a)\n",
        "    def perimeter(self):\n",
        "        return (2*3.14*self.a)\n",
        "a=Circle(5)\n",
        "print(a.area())\n",
        "k=a.perimeter()\n",
        "j=format(k,'.2f')\n",
        "print(j)"
      ],
      "execution_count": null,
      "outputs": [
        {
          "output_type": "stream",
          "text": [
            "78.5\n",
            "31.40\n"
          ],
          "name": "stdout"
        }
      ]
    },
    {
      "cell_type": "markdown",
      "metadata": {
        "id": "qT1sb3LYfAW_"
      },
      "source": [
        " Write a Python class to implement pow(x, n)"
      ]
    },
    {
      "cell_type": "code",
      "metadata": {
        "id": "QObfaMVgN8W_",
        "outputId": "e3d58cab-b0e6-4106-edd3-e231dc98bfbc",
        "colab": {
          "base_uri": "https://localhost:8080/",
          "height": 34
        }
      },
      "source": [
        "class power():\n",
        "    def pow(self,a,z):\n",
        "        self.p=a\n",
        "        self.e=z\n",
        "        return print(self.p**self.e)\n",
        "\n",
        "k=power()\n",
        "k.pow(10,2)"
      ],
      "execution_count": null,
      "outputs": [
        {
          "output_type": "stream",
          "text": [
            "100\n"
          ],
          "name": "stdout"
        }
      ]
    },
    {
      "cell_type": "markdown",
      "metadata": {
        "id": "hbrSdmVu8d5l"
      },
      "source": [
        "Write a Python class to reverse a string word by word."
      ]
    },
    {
      "cell_type": "code",
      "metadata": {
        "id": "8lS3jjzsN8lk",
        "outputId": "38ebb8d7-22ff-428f-b38b-f6d1f7c32ae0",
        "colab": {
          "base_uri": "https://localhost:8080/",
          "height": 34
        }
      },
      "source": [
        "class ABC():\n",
        "    def __init__(self,s):\n",
        "        self.a=s.split(\" \")\n",
        "        return print(self.a[::-1])\n",
        "\n",
        "k=ABC('Saurabh yadav')\n"
      ],
      "execution_count": null,
      "outputs": [
        {
          "output_type": "stream",
          "text": [
            "['yadav', 'Saurabh']\n"
          ],
          "name": "stdout"
        }
      ]
    },
    {
      "cell_type": "markdown",
      "metadata": {
        "id": "AVy0Vhg9COh6"
      },
      "source": [
        "Write a Python class named Rectangle constructed by a length and width and a method which will compute the area of a rectangle"
      ]
    },
    {
      "cell_type": "code",
      "metadata": {
        "id": "o_p2EYYuN8pk",
        "outputId": "136995de-e645-471a-cf77-976736f449be",
        "colab": {
          "base_uri": "https://localhost:8080/",
          "height": 34
        }
      },
      "source": [
        "class rect():\n",
        "    def __init__(self,a,b):\n",
        "        self.l=a\n",
        "        self.b=b\n",
        "\n",
        "    def area(self):\n",
        "        return print('Area of Rectangle:',self.l*self.b)\n",
        "\n",
        "a=rect(4,5)\n",
        "a.area()"
      ],
      "execution_count": null,
      "outputs": [
        {
          "output_type": "stream",
          "text": [
            "Area of Rectangle: 20\n"
          ],
          "name": "stdout"
        }
      ]
    },
    {
      "cell_type": "markdown",
      "metadata": {
        "id": "uXtirGOj9lmk"
      },
      "source": [
        "Make Class Triangle and make method that Compare all the angle sum is 180. "
      ]
    },
    {
      "cell_type": "code",
      "metadata": {
        "id": "TtS0_dBZN8wb",
        "outputId": "cec46982-9710-4ce3-d911-7f9b1cb04c1c",
        "colab": {
          "base_uri": "https://localhost:8080/",
          "height": 51
        }
      },
      "source": [
        "class Triangle():\n",
        "    number_of_sides = 3\n",
        "    def __init__(self,angle1,angle2,angle3):\n",
        "        self.angle1=angle1\n",
        "        self.angle2=angle2\n",
        "        self.angle3=angle3\n",
        "    def check_angles(self):\n",
        "        if self.angle1 + self.angle2 + self.angle3 == 180:\n",
        "            return (print('It is Triangle '))\n",
        "        else:\n",
        "            return (print('It is not a Triangle'))\n",
        "\n",
        "k=Triangle(60,30,90)\n",
        "k.check_angles()\n",
        "k.number_of_sides\n",
        "    "
      ],
      "execution_count": null,
      "outputs": [
        {
          "output_type": "stream",
          "text": [
            "It is Triangle \n"
          ],
          "name": "stdout"
        },
        {
          "output_type": "execute_result",
          "data": {
            "text/plain": [
              "3"
            ]
          },
          "metadata": {
            "tags": []
          },
          "execution_count": 9
        }
      ]
    },
    {
      "cell_type": "markdown",
      "metadata": {
        "id": "EkIa8Qy4H1fg"
      },
      "source": [
        "Define a class called Songs, it will show the lyrics of a song. Its __init__() method should have two arguments:selfanf lyrics.lyricsis a list. Inside your class create a method called sing_me_a_songthat prints each element of lyricson his own line. Define a varible:"
      ]
    },
    {
      "cell_type": "code",
      "metadata": {
        "id": "FwiaRfrkN84L",
        "outputId": "773a58bc-f8f8-49ea-da2a-2ba1445aa966",
        "colab": {
          "base_uri": "https://localhost:8080/",
          "height": 68
        }
      },
      "source": [
        "class Songs():\n",
        "    def __init__(self,lyrics):\n",
        "        self.ly=lyrics\n",
        "    def sing_me_a_song(self):\n",
        "        for i in self.ly:\n",
        "            print(i)\n",
        "\n",
        "happy_bday = Songs([\"May god bless you, \",\n",
        "                   \"Have a sunshine on you,\",\n",
        "                   \"Happy Birthday to you !\"])\n",
        "\n",
        "happy_bday.sing_me_a_song()\n"
      ],
      "execution_count": 3,
      "outputs": [
        {
          "output_type": "stream",
          "text": [
            "May god bless you, \n",
            "Have a sunshine on you,\n",
            "Happy Birthday to you !\n"
          ],
          "name": "stdout"
        }
      ]
    },
    {
      "cell_type": "code",
      "metadata": {
        "id": "8UgRZQENN89I"
      },
      "source": [
        ""
      ],
      "execution_count": null,
      "outputs": []
    },
    {
      "cell_type": "code",
      "metadata": {
        "id": "HaanIbi-tEO7"
      },
      "source": [
        ""
      ],
      "execution_count": null,
      "outputs": []
    },
    {
      "cell_type": "code",
      "metadata": {
        "id": "Kw7YHsV_N9A5"
      },
      "source": [
        ""
      ],
      "execution_count": null,
      "outputs": []
    },
    {
      "cell_type": "code",
      "metadata": {
        "id": "NnCKKhVsN9Fk"
      },
      "source": [
        ""
      ],
      "execution_count": null,
      "outputs": []
    },
    {
      "cell_type": "code",
      "metadata": {
        "id": "y5NW8BrwN9J6"
      },
      "source": [
        ""
      ],
      "execution_count": null,
      "outputs": []
    },
    {
      "cell_type": "code",
      "metadata": {
        "id": "NY1ZEdsFN9cU"
      },
      "source": [
        ""
      ],
      "execution_count": null,
      "outputs": []
    },
    {
      "cell_type": "code",
      "metadata": {
        "id": "hlhAZPGhN9hj"
      },
      "source": [
        ""
      ],
      "execution_count": null,
      "outputs": []
    },
    {
      "cell_type": "code",
      "metadata": {
        "id": "Tq6wzSTJN9qM"
      },
      "source": [
        ""
      ],
      "execution_count": null,
      "outputs": []
    },
    {
      "cell_type": "code",
      "metadata": {
        "id": "6vIe9FW_N9tj"
      },
      "source": [
        ""
      ],
      "execution_count": null,
      "outputs": []
    },
    {
      "cell_type": "code",
      "metadata": {
        "id": "CQLjrv01N90o"
      },
      "source": [
        ""
      ],
      "execution_count": null,
      "outputs": []
    },
    {
      "cell_type": "code",
      "metadata": {
        "id": "aChIZUWsN99F"
      },
      "source": [
        ""
      ],
      "execution_count": null,
      "outputs": []
    },
    {
      "cell_type": "code",
      "metadata": {
        "id": "0y2GkVjnN-B6"
      },
      "source": [
        ""
      ],
      "execution_count": null,
      "outputs": []
    },
    {
      "cell_type": "code",
      "metadata": {
        "id": "J2Y-T0-8N-ZW"
      },
      "source": [
        ""
      ],
      "execution_count": null,
      "outputs": []
    },
    {
      "cell_type": "code",
      "metadata": {
        "id": "-2RN1IutN-dv"
      },
      "source": [
        ""
      ],
      "execution_count": null,
      "outputs": []
    },
    {
      "cell_type": "code",
      "metadata": {
        "id": "y-r-NpOVN-rB"
      },
      "source": [
        ""
      ],
      "execution_count": null,
      "outputs": []
    },
    {
      "cell_type": "code",
      "metadata": {
        "id": "rhJzSe26N-ub"
      },
      "source": [
        ""
      ],
      "execution_count": null,
      "outputs": []
    },
    {
      "cell_type": "code",
      "metadata": {
        "id": "ziO9bUAjN9xo"
      },
      "source": [
        ""
      ],
      "execution_count": null,
      "outputs": []
    },
    {
      "cell_type": "code",
      "metadata": {
        "id": "jRct5p90N82y"
      },
      "source": [
        ""
      ],
      "execution_count": null,
      "outputs": []
    },
    {
      "cell_type": "code",
      "metadata": {
        "id": "kWb64IkJN8tZ"
      },
      "source": [
        ""
      ],
      "execution_count": null,
      "outputs": []
    }
  ]
}