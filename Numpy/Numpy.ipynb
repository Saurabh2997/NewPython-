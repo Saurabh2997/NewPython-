{
  "nbformat": 4,
  "nbformat_minor": 0,
  "metadata": {
    "colab": {
      "name": "Numpy.ipynb",
      "provenance": [],
      "collapsed_sections": [],
      "authorship_tag": "ABX9TyPppdFjkewWyNC/92FtL5z0",
      "include_colab_link": true
    },
    "kernelspec": {
      "name": "python3",
      "display_name": "Python 3"
    }
  },
  "cells": [
    {
      "cell_type": "markdown",
      "metadata": {
        "id": "view-in-github",
        "colab_type": "text"
      },
      "source": [
        "<a href=\"https://colab.research.google.com/github/Saurabh2997/NewPython-/blob/master/Numpy/Numpy.ipynb\" target=\"_parent\"><img src=\"https://colab.research.google.com/assets/colab-badge.svg\" alt=\"Open In Colab\"/></a>"
      ]
    },
    {
      "cell_type": "code",
      "metadata": {
        "id": "zqBX2oWe9UrM",
        "colab_type": "code",
        "colab": {}
      },
      "source": [
        "import numpy as np"
      ],
      "execution_count": null,
      "outputs": []
    },
    {
      "cell_type": "markdown",
      "metadata": {
        "id": "B8AKCx3onShH",
        "colab_type": "text"
      },
      "source": [
        "# Numpy Basics\n"
      ]
    },
    {
      "cell_type": "markdown",
      "metadata": {
        "id": "41e43fuXBD8h",
        "colab_type": "text"
      },
      "source": [
        "Write a NumPy program to test whether none of the elements of a given array is zero."
      ]
    },
    {
      "cell_type": "code",
      "metadata": {
        "id": "qgrix49c_rJj",
        "colab_type": "code",
        "colab": {
          "base_uri": "https://localhost:8080/",
          "height": 51
        },
        "outputId": "3d577ade-c07c-4440-deac-cd66b5c7fcce"
      },
      "source": [
        "a=np.array([1,2,3,45,5,6,8])\n",
        "print(np.all(a))\n",
        "b=np.array([0,1,2,5])\n",
        "print(np.all(b))"
      ],
      "execution_count": null,
      "outputs": [
        {
          "output_type": "stream",
          "text": [
            "True\n",
            "False\n"
          ],
          "name": "stdout"
        }
      ]
    },
    {
      "cell_type": "markdown",
      "metadata": {
        "id": "9X3MYOIJbdyq",
        "colab_type": "text"
      },
      "source": [
        "Write a NumPy program to test whether none of the elements of a given array is zero."
      ]
    },
    {
      "cell_type": "code",
      "metadata": {
        "id": "65bK-7zF_rNO",
        "colab_type": "code",
        "colab": {
          "base_uri": "https://localhost:8080/",
          "height": 34
        },
        "outputId": "4689e3bf-6a10-4bec-dac2-6b086e628059"
      },
      "source": [
        "a=np.array([1,2,3,45,5,6,8])\n",
        "np.any(a)\n"
      ],
      "execution_count": null,
      "outputs": [
        {
          "output_type": "execute_result",
          "data": {
            "text/plain": [
              "True"
            ]
          },
          "metadata": {
            "tags": []
          },
          "execution_count": 19
        }
      ]
    },
    {
      "cell_type": "markdown",
      "metadata": {
        "id": "cwtbvLzAeO6s",
        "colab_type": "text"
      },
      "source": [
        "Write a NumPy program to create an array of 10 zeros,10 ones, 10 fives"
      ]
    },
    {
      "cell_type": "code",
      "metadata": {
        "id": "nSdhsh95_rS_",
        "colab_type": "code",
        "colab": {
          "base_uri": "https://localhost:8080/",
          "height": 68
        },
        "outputId": "9e0ff3ec-47ec-4c25-cfde-8b724a4ab6a8"
      },
      "source": [
        "a=np.zeros(10)\n",
        "print(a)\n",
        "b=np.ones(10)\n",
        "print(b)\n",
        "c=np.ones(10)*5\n",
        "print(c)"
      ],
      "execution_count": null,
      "outputs": [
        {
          "output_type": "stream",
          "text": [
            "[0. 0. 0. 0. 0. 0. 0. 0. 0. 0.]\n",
            "[1. 1. 1. 1. 1. 1. 1. 1. 1. 1.]\n",
            "[5. 5. 5. 5. 5. 5. 5. 5. 5. 5.]\n"
          ],
          "name": "stdout"
        }
      ]
    },
    {
      "cell_type": "markdown",
      "metadata": {
        "id": "GPXpocXbepUS",
        "colab_type": "text"
      },
      "source": [
        "Write a NumPy program to create an array of the integers from 30 to70."
      ]
    },
    {
      "cell_type": "code",
      "metadata": {
        "id": "RcD-bi8oesdY",
        "colab_type": "code",
        "colab": {
          "base_uri": "https://localhost:8080/",
          "height": 51
        },
        "outputId": "cab91119-aa87-4987-966a-510eff3ad6ff"
      },
      "source": [
        "a=np.arange(30,70)\n",
        "print(a)"
      ],
      "execution_count": null,
      "outputs": [
        {
          "output_type": "stream",
          "text": [
            "[30 31 32 33 34 35 36 37 38 39 40 41 42 43 44 45 46 47 48 49 50 51 52 53\n",
            " 54 55 56 57 58 59 60 61 62 63 64 65 66 67 68 69]\n"
          ],
          "name": "stdout"
        }
      ]
    },
    {
      "cell_type": "markdown",
      "metadata": {
        "id": "MFYDdLD-e4pO",
        "colab_type": "text"
      },
      "source": [
        "Write a NumPy program to create an array of all the even integers from 30 to 70"
      ]
    },
    {
      "cell_type": "code",
      "metadata": {
        "id": "DxKu9Lbj_rfZ",
        "colab_type": "code",
        "colab": {
          "base_uri": "https://localhost:8080/",
          "height": 34
        },
        "outputId": "c0336b83-64da-4014-c1ba-d3994fa1f28d"
      },
      "source": [
        "a=np.arange(30,70,2)\n",
        "print(a)"
      ],
      "execution_count": null,
      "outputs": [
        {
          "output_type": "stream",
          "text": [
            "[30 32 34 36 38 40 42 44 46 48 50 52 54 56 58 60 62 64 66 68]\n"
          ],
          "name": "stdout"
        }
      ]
    },
    {
      "cell_type": "markdown",
      "metadata": {
        "id": "tDWqwAGgfM13",
        "colab_type": "text"
      },
      "source": [
        "Write a NumPy program to create a 3x3 identity matrix."
      ]
    },
    {
      "cell_type": "code",
      "metadata": {
        "id": "mLrQc770_rlY",
        "colab_type": "code",
        "colab": {
          "base_uri": "https://localhost:8080/",
          "height": 68
        },
        "outputId": "19448b54-11e1-4df6-b253-4f4bb800d18d"
      },
      "source": [
        "a=np.identity(3)\n",
        "print(a)"
      ],
      "execution_count": null,
      "outputs": [
        {
          "output_type": "stream",
          "text": [
            "[[1. 0. 0.]\n",
            " [0. 1. 0.]\n",
            " [0. 0. 1.]]\n"
          ],
          "name": "stdout"
        }
      ]
    },
    {
      "cell_type": "markdown",
      "metadata": {
        "id": "ujbEvmJBjPww",
        "colab_type": "text"
      },
      "source": [
        "Write a NumPy program to generate a random number between 0 and 1"
      ]
    },
    {
      "cell_type": "code",
      "metadata": {
        "id": "lRPa0jSo_rrR",
        "colab_type": "code",
        "colab": {
          "base_uri": "https://localhost:8080/",
          "height": 34
        },
        "outputId": "64d84d88-ab11-4677-b890-c4a8e693bff1"
      },
      "source": [
        "a=np.random.normal(0,1,size=1)\n",
        "print(a)"
      ],
      "execution_count": null,
      "outputs": [
        {
          "output_type": "stream",
          "text": [
            "[0.01007414]\n"
          ],
          "name": "stdout"
        }
      ]
    },
    {
      "cell_type": "markdown",
      "metadata": {
        "id": "N4c5rZfzjyH-",
        "colab_type": "text"
      },
      "source": [
        "Write a NumPy program to generate an array of 15 random numbers from a standard normal distribution"
      ]
    },
    {
      "cell_type": "code",
      "metadata": {
        "id": "GeOKwu0U_rxH",
        "colab_type": "code",
        "colab": {
          "base_uri": "https://localhost:8080/",
          "height": 68
        },
        "outputId": "16242c89-1578-44c6-beeb-4941c6fc772d"
      },
      "source": [
        "a=np.random.standard_normal(15)\n",
        "print(a)"
      ],
      "execution_count": null,
      "outputs": [
        {
          "output_type": "stream",
          "text": [
            "[-1.87670541  0.54528657 -0.32235641 -0.59444143  1.58062783 -0.81311807\n",
            " -2.5832603   1.17823293 -0.53901245 -0.03003852  1.73807667 -0.46028948\n",
            "  0.91880908  0.29724772  0.80671854]\n"
          ],
          "name": "stdout"
        }
      ]
    },
    {
      "cell_type": "markdown",
      "metadata": {
        "id": "N_0xP0LFlPWW",
        "colab_type": "text"
      },
      "source": [
        "Write a NumPy program to create a 3X4 array using and iterate over it."
      ]
    },
    {
      "cell_type": "code",
      "metadata": {
        "id": "G5RNmz1U_r00",
        "colab_type": "code",
        "colab": {
          "base_uri": "https://localhost:8080/",
          "height": 68
        },
        "outputId": "7afe21af-2c72-412e-8d9d-7f7db9d791be"
      },
      "source": [
        "a=np.random.randint(1,50,(3,4))\n",
        "print(a)"
      ],
      "execution_count": null,
      "outputs": [
        {
          "output_type": "stream",
          "text": [
            "[[24  1 26 17]\n",
            " [16 31  5 11]\n",
            " [23 32 37 37]]\n"
          ],
          "name": "stdout"
        }
      ]
    },
    {
      "cell_type": "code",
      "metadata": {
        "id": "drMjTbEY_rum",
        "colab_type": "code",
        "colab": {
          "base_uri": "https://localhost:8080/",
          "height": 119
        },
        "outputId": "ca9d058c-3e94-45c1-8941-bee1d8ea1303"
      },
      "source": [
        "\n",
        "a = np.arange(10,22).reshape((3, 4))\n",
        "print(\"Original array:\")\n",
        "print(a)\n",
        "print(\"Each element of the array is:\")\n",
        "for x in np.nditer(a):\n",
        "  print(x,end=\" \")"
      ],
      "execution_count": null,
      "outputs": [
        {
          "output_type": "stream",
          "text": [
            "Original array:\n",
            "[[10 11 12 13]\n",
            " [14 15 16 17]\n",
            " [18 19 20 21]]\n",
            "Each element of the array is:\n",
            "10 11 12 13 14 15 16 17 18 19 20 21 "
          ],
          "name": "stdout"
        }
      ]
    },
    {
      "cell_type": "markdown",
      "metadata": {
        "id": "6r4PnicUmrgs",
        "colab_type": "text"
      },
      "source": [
        "Write a NumPy program to create a vector of length 10 with values evenly distributed between 5 and 50"
      ]
    },
    {
      "cell_type": "code",
      "metadata": {
        "id": "BGB9Ta02_rpL",
        "colab_type": "code",
        "colab": {
          "base_uri": "https://localhost:8080/",
          "height": 34
        },
        "outputId": "e48148e4-2835-4972-d36b-48a6b718f6b4"
      },
      "source": [
        "a=np.linspace(5,50,10)\n",
        "print(a)"
      ],
      "execution_count": null,
      "outputs": [
        {
          "output_type": "stream",
          "text": [
            "[ 5. 10. 15. 20. 25. 30. 35. 40. 45. 50.]\n"
          ],
          "name": "stdout"
        }
      ]
    },
    {
      "cell_type": "markdown",
      "metadata": {
        "id": "hb7p_PhTonmn",
        "colab_type": "text"
      },
      "source": [
        "Write a NumPy program to create a vector with values from 0 to 20 and change the sign of the numbers in the range from 9 to 15"
      ]
    },
    {
      "cell_type": "code",
      "metadata": {
        "id": "NgZ84BaM_rjI",
        "colab_type": "code",
        "colab": {
          "base_uri": "https://localhost:8080/",
          "height": 68
        },
        "outputId": "3ef6b4b6-9c42-4c29-9502-6725b79833aa"
      },
      "source": [
        "a=np.arange(20)\n",
        "print('Original array',a)\n",
        "a[(a>=9)&(a<=15)]*=-1\n",
        "print(a)"
      ],
      "execution_count": null,
      "outputs": [
        {
          "output_type": "stream",
          "text": [
            "Original array [ 0  1  2  3  4  5  6  7  8  9 10 11 12 13 14 15 16 17 18 19]\n",
            "[  0   1   2   3   4   5   6   7   8  -9 -10 -11 -12 -13 -14 -15  16  17\n",
            "  18  19]\n"
          ],
          "name": "stdout"
        }
      ]
    },
    {
      "cell_type": "markdown",
      "metadata": {
        "id": "pGX9YL-Nptvd",
        "colab_type": "text"
      },
      "source": [
        ". Write a NumPy program to create a vector of length 5 filled with arbitrary integers from 0 to 10."
      ]
    },
    {
      "cell_type": "code",
      "metadata": {
        "id": "IZTJCHkt_rcr",
        "colab_type": "code",
        "colab": {
          "base_uri": "https://localhost:8080/",
          "height": 34
        },
        "outputId": "ff0de770-1ab5-4ad2-8ed3-ac18b878dd98"
      },
      "source": [
        "a=np.random.randint(0,10,5)\n",
        "print(a)"
      ],
      "execution_count": null,
      "outputs": [
        {
          "output_type": "stream",
          "text": [
            "[2 9 6 4 7]\n"
          ],
          "name": "stdout"
        }
      ]
    },
    {
      "cell_type": "markdown",
      "metadata": {
        "id": "n7iw8OEarVjS",
        "colab_type": "text"
      },
      "source": [
        "Write a NumPy program to multiply the values of two given vectors"
      ]
    },
    {
      "cell_type": "code",
      "metadata": {
        "id": "91bn8eh3pmLc",
        "colab_type": "code",
        "colab": {
          "base_uri": "https://localhost:8080/",
          "height": 68
        },
        "outputId": "990904f7-981f-4f2c-fcc3-d5d359fb0414"
      },
      "source": [
        "a=np.arange(5)\n",
        "b=np.ones(5)*2\n",
        "print('array 1',a)\n",
        "print('array 2',b)\n",
        "c=a*b\n",
        "print('array 1*2',c)"
      ],
      "execution_count": null,
      "outputs": [
        {
          "output_type": "stream",
          "text": [
            "array 1 [0 1 2 3 4]\n",
            "array 2 [2. 2. 2. 2. 2.]\n",
            "array 1*2 [0. 2. 4. 6. 8.]\n"
          ],
          "name": "stdout"
        }
      ]
    },
    {
      "cell_type": "markdown",
      "metadata": {
        "id": "qt7rtizjsEF6",
        "colab_type": "text"
      },
      "source": [
        "Write a NumPy program to create a 3x4 matrix filled with values from 10 to 21"
      ]
    },
    {
      "cell_type": "code",
      "metadata": {
        "id": "rYia0rJdpmQk",
        "colab_type": "code",
        "colab": {
          "base_uri": "https://localhost:8080/",
          "height": 68
        },
        "outputId": "bfbc87de-d95c-4e7b-838f-647630db9ca1"
      },
      "source": [
        "a=np.random.randint(10,21,(3,4))\n",
        "print(a)"
      ],
      "execution_count": null,
      "outputs": [
        {
          "output_type": "stream",
          "text": [
            "[[14 15 17 11]\n",
            " [14 18 11 18]\n",
            " [19 19 16 10]]\n"
          ],
          "name": "stdout"
        }
      ]
    },
    {
      "cell_type": "markdown",
      "metadata": {
        "id": "Oq3vJgX2sbWM",
        "colab_type": "text"
      },
      "source": [
        "Write a NumPy program to find the number of rows and columns of a given matrix."
      ]
    },
    {
      "cell_type": "code",
      "metadata": {
        "id": "f2rp_RzSpmVE",
        "colab_type": "code",
        "colab": {
          "base_uri": "https://localhost:8080/",
          "height": 85
        },
        "outputId": "2de23bec-584f-4554-bbe4-6a938457268e"
      },
      "source": [
        "a = np.random.randint(0,22,(3,4))\n",
        "print(a)\n",
        "print(np.shape(a))"
      ],
      "execution_count": null,
      "outputs": [
        {
          "output_type": "stream",
          "text": [
            "[[18 19  2 13]\n",
            " [ 4  1  2  3]\n",
            " [ 5  8  3  3]]\n",
            "(3, 4)\n"
          ],
          "name": "stdout"
        }
      ]
    },
    {
      "cell_type": "markdown",
      "metadata": {
        "id": "NjXsberxvdRR",
        "colab_type": "text"
      },
      "source": [
        "Write a NumPy program to create a 10x10 matrix, in which the elements on the borders will be equal to 1, and inside 0"
      ]
    },
    {
      "cell_type": "code",
      "metadata": {
        "id": "Ebh6fmuWpmp7",
        "colab_type": "code",
        "colab": {
          "base_uri": "https://localhost:8080/",
          "height": 187
        },
        "outputId": "fda6fc58-b5c1-46c8-d3b0-6d1383769681"
      },
      "source": [
        "a=np.ones((10,10))\n",
        "a[1:-1,1:-1]=0\n",
        "print(a)"
      ],
      "execution_count": null,
      "outputs": [
        {
          "output_type": "stream",
          "text": [
            "[[1. 1. 1. 1. 1. 1. 1. 1. 1. 1.]\n",
            " [1. 0. 0. 0. 0. 0. 0. 0. 0. 1.]\n",
            " [1. 0. 0. 0. 0. 0. 0. 0. 0. 1.]\n",
            " [1. 0. 0. 0. 0. 0. 0. 0. 0. 1.]\n",
            " [1. 0. 0. 0. 0. 0. 0. 0. 0. 1.]\n",
            " [1. 0. 0. 0. 0. 0. 0. 0. 0. 1.]\n",
            " [1. 0. 0. 0. 0. 0. 0. 0. 0. 1.]\n",
            " [1. 0. 0. 0. 0. 0. 0. 0. 0. 1.]\n",
            " [1. 0. 0. 0. 0. 0. 0. 0. 0. 1.]\n",
            " [1. 1. 1. 1. 1. 1. 1. 1. 1. 1.]]\n"
          ],
          "name": "stdout"
        }
      ]
    },
    {
      "cell_type": "markdown",
      "metadata": {
        "id": "fixSzcCWw1-Z",
        "colab_type": "text"
      },
      "source": [
        "Write a NumPy program to create a 5x5 zero matrix with elements on the main diagonal equal to 1, 2, 3, 4, 5."
      ]
    },
    {
      "cell_type": "code",
      "metadata": {
        "id": "rm1pdMpwpmwz",
        "colab_type": "code",
        "colab": {
          "base_uri": "https://localhost:8080/",
          "height": 102
        },
        "outputId": "cc140a46-7bf0-4bd5-e46b-9ac7462f317d"
      },
      "source": [
        "a=np.identity(5)\n",
        "b=[1,2,3,4,5]\n",
        "c=a*b\n",
        "print(c)"
      ],
      "execution_count": null,
      "outputs": [
        {
          "output_type": "stream",
          "text": [
            "[[1. 0. 0. 0. 0.]\n",
            " [0. 2. 0. 0. 0.]\n",
            " [0. 0. 3. 0. 0.]\n",
            " [0. 0. 0. 4. 0.]\n",
            " [0. 0. 0. 0. 5.]]\n"
          ],
          "name": "stdout"
        }
      ]
    },
    {
      "cell_type": "code",
      "metadata": {
        "id": "g8ubULCMpm3k",
        "colab_type": "code",
        "colab": {
          "base_uri": "https://localhost:8080/",
          "height": 102
        },
        "outputId": "3a2e856d-65ca-4e1d-b19c-80e6224663de"
      },
      "source": [
        "x = np.diag([1, 2, 3, 4, 5])\n",
        "print(x)"
      ],
      "execution_count": null,
      "outputs": [
        {
          "output_type": "stream",
          "text": [
            "[[1 0 0 0 0]\n",
            " [0 2 0 0 0]\n",
            " [0 0 3 0 0]\n",
            " [0 0 0 4 0]\n",
            " [0 0 0 0 5]]\n"
          ],
          "name": "stdout"
        }
      ]
    },
    {
      "cell_type": "markdown",
      "metadata": {
        "id": "VMy5FACsypoc",
        "colab_type": "text"
      },
      "source": [
        " Write a NumPy program to create a 3x3x3 array filled with arbitrary values"
      ]
    },
    {
      "cell_type": "code",
      "metadata": {
        "id": "fi_HVII9pm-o",
        "colab_type": "code",
        "colab": {
          "base_uri": "https://localhost:8080/",
          "height": 204
        },
        "outputId": "aa81f3c9-7815-433c-ddef-edd8fb05fe82"
      },
      "source": [
        "a=np.random.randint(0,50,(3,3,3,))\n",
        "print(a)"
      ],
      "execution_count": null,
      "outputs": [
        {
          "output_type": "stream",
          "text": [
            "[[[ 7  3 27]\n",
            "  [31 39 30]\n",
            "  [33 39 19]]\n",
            "\n",
            " [[20 46 16]\n",
            "  [40 46 24]\n",
            "  [29  4 18]]\n",
            "\n",
            " [[29 13  0]\n",
            "  [39  3  3]\n",
            "  [16  0 15]]]\n"
          ],
          "name": "stdout"
        }
      ]
    },
    {
      "cell_type": "markdown",
      "metadata": {
        "id": "0g5zj_PLy-i7",
        "colab_type": "text"
      },
      "source": [
        "Write a NumPy program to compute sum of all elements, sum of each column and sum of each row of a given array."
      ]
    },
    {
      "cell_type": "code",
      "metadata": {
        "id": "Xzy2beo4pnGD",
        "colab_type": "code",
        "colab": {
          "base_uri": "https://localhost:8080/",
          "height": 102
        },
        "outputId": "2f0a3a4c-cda6-4e44-e04c-f2a8d284293e"
      },
      "source": [
        "a=np.random.randint(0,50,(3,3))\n",
        "print(a)\n",
        "print('sum of row',a.sum(1))\n",
        "print('sum of column',a.sum(0))"
      ],
      "execution_count": null,
      "outputs": [
        {
          "output_type": "stream",
          "text": [
            "[[ 0 47 36]\n",
            " [20 35 15]\n",
            " [46 39 11]]\n",
            "sum of row [83 70 96]\n",
            "sum of column [ 66 121  62]\n"
          ],
          "name": "stdout"
        }
      ]
    },
    {
      "cell_type": "markdown",
      "metadata": {
        "id": "Y9AqbHkW0xE6",
        "colab_type": "text"
      },
      "source": [
        "Write a NumPy program to add a vector to each row of a given matrix"
      ]
    },
    {
      "cell_type": "code",
      "metadata": {
        "id": "X8dxD6BdpnMQ",
        "colab_type": "code",
        "colab": {
          "base_uri": "https://localhost:8080/",
          "height": 119
        },
        "outputId": "cbf643bf-10f6-43b4-baf9-83e9b0d755d7"
      },
      "source": [
        "a=np.random.randint(2,50,(3,3))\n",
        "print(a)\n",
        "b=[1,1,1]\n",
        "c=a+b\n",
        "print(c)"
      ],
      "execution_count": null,
      "outputs": [
        {
          "output_type": "stream",
          "text": [
            "[[ 7 11 13]\n",
            " [40 21 29]\n",
            " [ 8 48  9]]\n",
            "[[ 8 12 14]\n",
            " [41 22 30]\n",
            " [ 9 49 10]]\n"
          ],
          "name": "stdout"
        }
      ]
    },
    {
      "cell_type": "code",
      "metadata": {
        "id": "Cj5SR0fdpnDx",
        "colab_type": "code",
        "colab": {
          "base_uri": "https://localhost:8080/",
          "height": 238
        },
        "outputId": "3b1039b3-6acc-4f98-8010-47098ebb2470"
      },
      "source": [
        "m = np.array([[1,2,3], [4,5,6], [7,8,9], [10, 11, 12]])\n",
        "v = np.array([1, 1, 0])\n",
        "print(\"Original vector:\")\n",
        "print(v)\n",
        "print(\"Original matrix:\")\n",
        "print(m)\n",
        "result = np.empty_like(m) \n",
        "for i in range(4):\n",
        "  result[i, :] = m[i, :] + v\n",
        "print(\"\\nAfter adding the vector v to each row of the matrix m:\")\n",
        "print(result)"
      ],
      "execution_count": null,
      "outputs": [
        {
          "output_type": "stream",
          "text": [
            "Original vector:\n",
            "[1 1 0]\n",
            "Original matrix:\n",
            "[[ 1  2  3]\n",
            " [ 4  5  6]\n",
            " [ 7  8  9]\n",
            " [10 11 12]]\n",
            "\n",
            "After adding the vector v to each row of the matrix m:\n",
            "[[ 2  3  3]\n",
            " [ 5  6  6]\n",
            " [ 8  9  9]\n",
            " [11 12 12]]\n"
          ],
          "name": "stdout"
        }
      ]
    },
    {
      "cell_type": "markdown",
      "metadata": {
        "id": "OvrzD4D8CXNP",
        "colab_type": "text"
      },
      "source": [
        "# NumPy: Sorting and Searching Exercises, Practice, Solution"
      ]
    },
    {
      "cell_type": "markdown",
      "metadata": {
        "id": "M4B4q9HECeLW",
        "colab_type": "text"
      },
      "source": [
        "Write a NumPy program to sort a given array of shape 2 along the first axis, last axis and on flattened array"
      ]
    },
    {
      "cell_type": "code",
      "metadata": {
        "id": "W9SwPs3Hpm8a",
        "colab_type": "code",
        "colab": {
          "base_uri": "https://localhost:8080/",
          "height": 187
        },
        "outputId": "bc63c223-0ca5-4cf5-ef3c-1547939099c2"
      },
      "source": [
        "a=np.array([[10,40],[30,20]])\n",
        "print(a)\n",
        "print('Sorted on first axis')\n",
        "print(np.sort(a,0))\n",
        "print(\"Sort the array along the last axis:\")\n",
        "print(np.sort(a))\n",
        "print(\"Sort the flattened array:\")\n",
        "print(np.sort(a, axis=None))"
      ],
      "execution_count": null,
      "outputs": [
        {
          "output_type": "stream",
          "text": [
            "[[10 40]\n",
            " [30 20]]\n",
            "Sorted on first axis\n",
            "[[10 20]\n",
            " [30 40]]\n",
            "Sort the array along the last axis:\n",
            "[[10 40]\n",
            " [20 30]]\n",
            "Sort the flattened array:\n",
            "[10 20 30 40]\n"
          ],
          "name": "stdout"
        }
      ]
    },
    {
      "cell_type": "markdown",
      "metadata": {
        "id": "OWAesOwrEUr9",
        "colab_type": "text"
      },
      "source": [
        ". Write a NumPy program to create a structured array from given student name, height, class and their data types. Now sort the array on height"
      ]
    },
    {
      "cell_type": "code",
      "metadata": {
        "id": "fzwvV8Lupm0_",
        "colab_type": "code",
        "colab": {
          "base_uri": "https://localhost:8080/",
          "height": 119
        },
        "outputId": "b5b43a21-cdee-427b-c056-ca66305e7219"
      },
      "source": [
        "data=[('name','S15'),('class',int),('height',float)]\n",
        "students_details = [('James', 5, 48.5), ('Nail', 6, 52.5),('Paul', 5, 42.10), ('Pit', 5, 40.11)]\n",
        "a=np.array(students_details,dtype=data)\n",
        "print('original array')\n",
        "print(a)\n",
        "print('After sort')\n",
        "k=np.sort(a,order='height')\n",
        "print(k)"
      ],
      "execution_count": null,
      "outputs": [
        {
          "output_type": "stream",
          "text": [
            "original array\n",
            "[(b'James', 5, 48.5 ) (b'Nail', 6, 52.5 ) (b'Paul', 5, 42.1 )\n",
            " (b'Pit', 5, 40.11)]\n",
            "After sort\n",
            "[(b'Pit', 5, 40.11) (b'Paul', 5, 42.1 ) (b'James', 5, 48.5 )\n",
            " (b'Nail', 6, 52.5 )]\n"
          ],
          "name": "stdout"
        }
      ]
    },
    {
      "cell_type": "markdown",
      "metadata": {
        "id": "JOuNI7YfGvRb",
        "colab_type": "text"
      },
      "source": [
        "Write a NumPy program to create a structured array from given student name, height, class and their data types. Now sort by class, then height if class are equal"
      ]
    },
    {
      "cell_type": "code",
      "metadata": {
        "id": "KDv78LRkpmt8",
        "colab_type": "code",
        "colab": {
          "base_uri": "https://localhost:8080/",
          "height": 119
        },
        "outputId": "5ac0fc05-7726-4c54-940f-a9c0aa8eb441"
      },
      "source": [
        "data=[('name','S15'),('class',int),('height',float)]\n",
        "students_details = [('James', 5, 48.5), ('Nail', 6, 52.5),('Paul', 5, 42.10), ('Pit', 5, 40.11)]\n",
        "a=np.array(students_details,dtype=data)\n",
        "print('original array')\n",
        "print(a)\n",
        "print('After sort')\n",
        "k=np.sort(a,order=['class','height'])\n",
        "print(k)"
      ],
      "execution_count": null,
      "outputs": [
        {
          "output_type": "stream",
          "text": [
            "original array\n",
            "[(b'James', 5, 48.5 ) (b'Nail', 6, 52.5 ) (b'Paul', 5, 42.1 )\n",
            " (b'Pit', 5, 40.11)]\n",
            "After sort\n",
            "[(b'Pit', 5, 40.11) (b'Paul', 5, 42.1 ) (b'James', 5, 48.5 )\n",
            " (b'Nail', 6, 52.5 )]\n"
          ],
          "name": "stdout"
        }
      ]
    },
    {
      "cell_type": "markdown",
      "metadata": {
        "id": "HBsFTqT_NT_Q",
        "colab_type": "text"
      },
      "source": [
        "Write a NumPy program to sort the student id with increasing height of the students from given students id and height. Print the integer indices that describes the sort order by multiple columns and the sorted data."
      ]
    },
    {
      "cell_type": "code",
      "metadata": {
        "id": "atGmd-IWpmm4",
        "colab_type": "code",
        "colab": {
          "base_uri": "https://localhost:8080/",
          "height": 187
        },
        "outputId": "a3dd2bff-68a6-4d31-f9ba-5c4cb60108ae"
      },
      "source": [
        "student_id = np.array([1023, 5202, 6230, 1671, 1682, 5241, 4532])\n",
        "student_height = np.array([40., 42., 45., 41., 38., 40., 42.0])\n",
        "#Sort by studen_id then by student_height\n",
        "indices = np.lexsort((student_id, student_height))\n",
        "print(\"Sorted indices:\")\n",
        "print(indices)\n",
        "print(\"Sorted data:\")\n",
        "for n in indices:\n",
        "  print(student_id[n], student_height[n])"
      ],
      "execution_count": null,
      "outputs": [
        {
          "output_type": "stream",
          "text": [
            "Sorted indices:\n",
            "[4 0 5 3 6 1 2]\n",
            "Sorted data:\n",
            "1682 38.0\n",
            "1023 40.0\n",
            "5241 40.0\n",
            "1671 41.0\n",
            "4532 42.0\n",
            "5202 42.0\n",
            "6230 45.0\n"
          ],
          "name": "stdout"
        }
      ]
    },
    {
      "cell_type": "markdown",
      "metadata": {
        "id": "3jMqtKqOUFGE",
        "colab_type": "text"
      },
      "source": [
        "Write a NumPy program to get the indices of the sorted elements of a given array."
      ]
    },
    {
      "cell_type": "code",
      "metadata": {
        "id": "_SJT7_-Fpmk3",
        "colab_type": "code",
        "colab": {
          "base_uri": "https://localhost:8080/",
          "height": 68
        },
        "outputId": "887cf946-7902-497c-9c43-b521d89ca98b"
      },
      "source": [
        "l=[1023 ,5202 ,6230 ,1671 ,1682 ,5241 ,4532]\n",
        "a=np.array(l)\n",
        "print('Original array',a)\n",
        "k=np.argsort(a)\n",
        "print('Sorted indices',k)\n",
        "print('Sorted array',a[k])"
      ],
      "execution_count": null,
      "outputs": [
        {
          "output_type": "stream",
          "text": [
            "Original array [1023 5202 6230 1671 1682 5241 4532]\n",
            "Sorted indices [0 3 4 6 1 5 2]\n",
            "Sorted array [1023 1671 1682 4532 5202 5241 6230]\n"
          ],
          "name": "stdout"
        }
      ]
    },
    {
      "cell_type": "markdown",
      "metadata": {
        "id": "cCGIYO6GZ__8",
        "colab_type": "text"
      },
      "source": [
        "Write a NumPy program to partition a given array in a specified position and move all the smaller elements values to the left of the partition, and the remaining values to the right, in arbitrary order (based on random choice)"
      ]
    },
    {
      "cell_type": "code",
      "metadata": {
        "id": "QSM0KneupmjW",
        "colab_type": "code",
        "colab": {
          "base_uri": "https://localhost:8080/",
          "height": 102
        },
        "outputId": "0f5cef8a-7baf-4a86-f5c5-fd1a9f5a6995"
      },
      "source": [
        "nums = np.array([70, 50, 20, 30, -11, 60, 50, 40])\n",
        "print(\"Original array:\")\n",
        "print(nums)\n",
        "print(\"\\nAfter partitioning on 4 the position:\")\n",
        "print(np.partition(nums, 4))"
      ],
      "execution_count": null,
      "outputs": [
        {
          "output_type": "stream",
          "text": [
            "Original array:\n",
            "[ 70  50  20  30 -11  60  50  40]\n",
            "\n",
            "After partitioning on 4 the position:\n",
            "[-11  30  20  40  50  50  60  70]\n"
          ],
          "name": "stdout"
        }
      ]
    },
    {
      "cell_type": "markdown",
      "metadata": {
        "id": "09rCUVwte1Ax",
        "colab_type": "text"
      },
      "source": [
        "Write a NumPy program to sort the specified number of elements from beginning of a given array"
      ]
    },
    {
      "cell_type": "code",
      "metadata": {
        "id": "RgWXQBSkpmfq",
        "colab_type": "code",
        "colab": {
          "base_uri": "https://localhost:8080/",
          "height": 34
        },
        "outputId": "14182222-aba9-4152-b6d5-6bda7ba1cb21"
      },
      "source": [
        "a=np.random.randint(0,20,10)\n",
        "print(a[np.argpartition(a,range(5))])"
      ],
      "execution_count": null,
      "outputs": [
        {
          "output_type": "stream",
          "text": [
            "[ 1  2  4  6 11 15 18 11 18 12]\n"
          ],
          "name": "stdout"
        }
      ]
    },
    {
      "cell_type": "markdown",
      "metadata": {
        "id": "W-zPhMsflOSo",
        "colab_type": "text"
      },
      "source": [
        "# NumPy: Array Object Exercises, Practice, Solution"
      ]
    },
    {
      "cell_type": "markdown",
      "metadata": {
        "id": "3gVV3fTRlVTP",
        "colab_type": "text"
      },
      "source": [
        "Write a NumPy program to create a null vector of size 10 and update sixth value to 11"
      ]
    },
    {
      "cell_type": "code",
      "metadata": {
        "id": "FcmAk35gpmcP",
        "colab_type": "code",
        "colab": {
          "base_uri": "https://localhost:8080/",
          "height": 51
        },
        "outputId": "aa5b2c67-0665-4408-d854-1d6db7aaad65"
      },
      "source": [
        "a=np.zeros(10)\n",
        "print('Og vector',a)\n",
        "a[5]=11\n",
        "print('new vector',a)"
      ],
      "execution_count": null,
      "outputs": [
        {
          "output_type": "stream",
          "text": [
            "Og vector [0. 0. 0. 0. 0. 0. 0. 0. 0. 0.]\n",
            "new vector [ 0.  0.  0.  0.  0. 11.  0.  0.  0.  0.]\n"
          ],
          "name": "stdout"
        }
      ]
    },
    {
      "cell_type": "markdown",
      "metadata": {
        "id": "0JG_29V_oXpa",
        "colab_type": "text"
      },
      "source": [
        "Write a NumPy program to create an array with values ranging from 12 to 38"
      ]
    },
    {
      "cell_type": "code",
      "metadata": {
        "id": "uba0meOFpmaS",
        "colab_type": "code",
        "colab": {
          "base_uri": "https://localhost:8080/",
          "height": 51
        },
        "outputId": "19549d6d-c623-49a3-f551-93caf167f987"
      },
      "source": [
        "a=np.arange(12,39)\n",
        "print(a)"
      ],
      "execution_count": null,
      "outputs": [
        {
          "output_type": "stream",
          "text": [
            "[12 13 14 15 16 17 18 19 20 21 22 23 24 25 26 27 28 29 30 31 32 33 34 35\n",
            " 36 37 38]\n"
          ],
          "name": "stdout"
        }
      ]
    },
    {
      "cell_type": "markdown",
      "metadata": {
        "id": "YeQqdcTnoioz",
        "colab_type": "text"
      },
      "source": [
        "Write a NumPy program to reverse an array (first element becomes last)."
      ]
    },
    {
      "cell_type": "code",
      "metadata": {
        "id": "LXdsK1rc_rZV",
        "colab_type": "code",
        "colab": {
          "base_uri": "https://localhost:8080/",
          "height": 51
        },
        "outputId": "672ee589-1dd0-4478-9c95-c52a4662e792"
      },
      "source": [
        "a=np.arange(12,38)\n",
        "a[-1::-1]"
      ],
      "execution_count": null,
      "outputs": [
        {
          "output_type": "execute_result",
          "data": {
            "text/plain": [
              "array([37, 36, 35, 34, 33, 32, 31, 30, 29, 28, 27, 26, 25, 24, 23, 22, 21,\n",
              "       20, 19, 18, 17, 16, 15, 14, 13, 12])"
            ]
          },
          "metadata": {
            "tags": []
          },
          "execution_count": 31
        }
      ]
    },
    {
      "cell_type": "markdown",
      "metadata": {
        "id": "C9ppQpW7pPPn",
        "colab_type": "text"
      },
      "source": [
        "Write a NumPy program to convert an array to a float type"
      ]
    },
    {
      "cell_type": "code",
      "metadata": {
        "id": "NADkNH_PokPD",
        "colab_type": "code",
        "colab": {
          "base_uri": "https://localhost:8080/",
          "height": 51
        },
        "outputId": "26a143d6-60da-48ac-a980-3690d83964f0"
      },
      "source": [
        "a=np.array([1,2,3,4])\n",
        "print(a)\n",
        "a=np.array(a,dtype=float)\n",
        "print(a)"
      ],
      "execution_count": null,
      "outputs": [
        {
          "output_type": "stream",
          "text": [
            "[1 2 3 4]\n",
            "[1. 2. 3. 4.]\n"
          ],
          "name": "stdout"
        }
      ]
    },
    {
      "cell_type": "markdown",
      "metadata": {
        "id": "Ai-PFKXOqTa2",
        "colab_type": "text"
      },
      "source": [
        "Write a NumPy program to create a 8x8 matrix and fill it with a checkerboard pattern."
      ]
    },
    {
      "cell_type": "code",
      "metadata": {
        "id": "TQxD_ePFokTi",
        "colab_type": "code",
        "colab": {
          "base_uri": "https://localhost:8080/",
          "height": 153
        },
        "outputId": "a00247ca-1f48-4195-ffb8-ef420947b96c"
      },
      "source": [
        "a=np.zeros((8,8))\n",
        "a[1::2,::2]=1\n",
        "a[::2,1::2]=1\n",
        "print(a)"
      ],
      "execution_count": null,
      "outputs": [
        {
          "output_type": "stream",
          "text": [
            "[[0. 1. 0. 1. 0. 1. 0. 1.]\n",
            " [1. 0. 1. 0. 1. 0. 1. 0.]\n",
            " [0. 1. 0. 1. 0. 1. 0. 1.]\n",
            " [1. 0. 1. 0. 1. 0. 1. 0.]\n",
            " [0. 1. 0. 1. 0. 1. 0. 1.]\n",
            " [1. 0. 1. 0. 1. 0. 1. 0.]\n",
            " [0. 1. 0. 1. 0. 1. 0. 1.]\n",
            " [1. 0. 1. 0. 1. 0. 1. 0.]]\n"
          ],
          "name": "stdout"
        }
      ]
    },
    {
      "cell_type": "markdown",
      "metadata": {
        "id": "EKKViMuZsw5Y",
        "colab_type": "text"
      },
      "source": [
        "Write a NumPy program to append values to the end of an array."
      ]
    },
    {
      "cell_type": "code",
      "metadata": {
        "id": "Z3RLwJklokXG",
        "colab_type": "code",
        "colab": {
          "base_uri": "https://localhost:8080/",
          "height": 51
        },
        "outputId": "b4f57bdb-82ec-4adf-9387-693fab9f066d"
      },
      "source": [
        "a=np.arange(5)\n",
        "print(a)\n",
        "b=np.array([5,7,9,2])\n",
        "np.append(a,b)"
      ],
      "execution_count": null,
      "outputs": [
        {
          "output_type": "stream",
          "text": [
            "[0 1 2 3 4]\n"
          ],
          "name": "stdout"
        },
        {
          "output_type": "execute_result",
          "data": {
            "text/plain": [
              "array([0, 1, 2, 3, 4, 5, 7, 9, 2])"
            ]
          },
          "metadata": {
            "tags": []
          },
          "execution_count": 47
        }
      ]
    },
    {
      "cell_type": "markdown",
      "metadata": {
        "id": "CJusWmhjwT3M",
        "colab_type": "text"
      },
      "source": [
        "Write a NumPy program to find the number of elements of an array, length of one array element in bytes and total bytes consumed by the elements. "
      ]
    },
    {
      "cell_type": "code",
      "metadata": {
        "id": "BqhlUzLzokgc",
        "colab_type": "code",
        "colab": {
          "base_uri": "https://localhost:8080/",
          "height": 51
        },
        "outputId": "26618053-e431-431d-bc7f-0fe70e8499b0"
      },
      "source": [
        "a=np.random.random_sample(8)\n",
        "print(len(a))\n",
        "print(a.size,a.nbytes,a.itemsize)\n"
      ],
      "execution_count": null,
      "outputs": [
        {
          "output_type": "stream",
          "text": [
            "8\n",
            "8 64 8\n"
          ],
          "name": "stdout"
        }
      ]
    },
    {
      "cell_type": "markdown",
      "metadata": {
        "id": "pOBgWOpB05vq",
        "colab_type": "text"
      },
      "source": [
        "Write a NumPy program to test whether each element of a 1-D array is also present in a second array."
      ]
    },
    {
      "cell_type": "code",
      "metadata": {
        "id": "QdLyJwl2okto",
        "colab_type": "code",
        "colab": {
          "base_uri": "https://localhost:8080/",
          "height": 34
        },
        "outputId": "8286eff0-69f3-408f-a50d-b38f195c3862"
      },
      "source": [
        "a=np.array([10,20,40,50])\n",
        "b=np.array([10,5,40,60])\n",
        "np.in1d(a,b)"
      ],
      "execution_count": null,
      "outputs": [
        {
          "output_type": "execute_result",
          "data": {
            "text/plain": [
              "array([ True, False,  True, False])"
            ]
          },
          "metadata": {
            "tags": []
          },
          "execution_count": 55
        }
      ]
    },
    {
      "cell_type": "markdown",
      "metadata": {
        "id": "pC9o2Rsa2K7Y",
        "colab_type": "text"
      },
      "source": [
        "Write a NumPy program to find common values between two arrays."
      ]
    },
    {
      "cell_type": "code",
      "metadata": {
        "id": "dZMk1aPWok31",
        "colab_type": "code",
        "colab": {
          "base_uri": "https://localhost:8080/",
          "height": 34
        },
        "outputId": "018405f8-10df-4c84-9cdb-2b014ce1a261"
      },
      "source": [
        "a=np.array([10,20,30,80])\n",
        "b=np.array([10,50,30,90])\n",
        "k=a[np.isin(a,b)]\n",
        "print(k)"
      ],
      "execution_count": null,
      "outputs": [
        {
          "output_type": "stream",
          "text": [
            "[10 30]\n"
          ],
          "name": "stdout"
        }
      ]
    },
    {
      "cell_type": "code",
      "metadata": {
        "id": "yTuF3NZkok-R",
        "colab_type": "code",
        "colab": {
          "base_uri": "https://localhost:8080/",
          "height": 34
        },
        "outputId": "74a8a5c7-6059-40ef-a079-8c4d8dfaf5eb"
      },
      "source": [
        "a=np.array([10,20,30,80])\n",
        "b=np.array([10,50,30,90])\n",
        "np.intersect1d(a,b)\n"
      ],
      "execution_count": null,
      "outputs": [
        {
          "output_type": "execute_result",
          "data": {
            "text/plain": [
              "array([10, 30])"
            ]
          },
          "metadata": {
            "tags": []
          },
          "execution_count": 8
        }
      ]
    },
    {
      "cell_type": "markdown",
      "metadata": {
        "id": "xIv11KNwXX9_",
        "colab_type": "text"
      },
      "source": [
        "Write a NumPy program to get the unique elements of an array"
      ]
    },
    {
      "cell_type": "code",
      "metadata": {
        "id": "xOuWVILJolEm",
        "colab_type": "code",
        "colab": {
          "base_uri": "https://localhost:8080/",
          "height": 34
        },
        "outputId": "8a8a6f1a-f293-44e3-87b0-7e4f052f7ec2"
      },
      "source": [
        "a=np.array([10,20,20,50,50,80,50,90,100,10,100,60])\n",
        "np.unique(a)"
      ],
      "execution_count": null,
      "outputs": [
        {
          "output_type": "execute_result",
          "data": {
            "text/plain": [
              "array([ 10,  20,  50,  60,  80,  90, 100])"
            ]
          },
          "metadata": {
            "tags": []
          },
          "execution_count": 9
        }
      ]
    },
    {
      "cell_type": "markdown",
      "metadata": {
        "id": "HFdGTVd6Rw-A",
        "colab_type": "text"
      },
      "source": [
        " Write a NumPy program to find the set difference of two arrays. The set difference will return the sorted, unique values in array1 that are not in array2."
      ]
    },
    {
      "cell_type": "code",
      "metadata": {
        "id": "kHdZnZVxolOd",
        "colab_type": "code",
        "colab": {
          "base_uri": "https://localhost:8080/",
          "height": 34
        },
        "outputId": "776db79a-9b72-4711-fed1-0fc1d108f334"
      },
      "source": [
        "a=np.array([10,20,50,100,10,90,60])\n",
        "b=np.array([50,20,100,30,80,90,100,140])\n",
        "np.setdiff1d(a,b)\n"
      ],
      "execution_count": null,
      "outputs": [
        {
          "output_type": "execute_result",
          "data": {
            "text/plain": [
              "array([10, 60])"
            ]
          },
          "metadata": {
            "tags": []
          },
          "execution_count": 4
        }
      ]
    },
    {
      "cell_type": "markdown",
      "metadata": {
        "id": "Or48Ban1ac_n",
        "colab_type": "text"
      },
      "source": [
        " Write a NumPy program to find the set exclusive-or of two arrays. Set exclusive-or will return the sorted, unique values that are in only one (not both) of the input arrays"
      ]
    },
    {
      "cell_type": "code",
      "metadata": {
        "id": "CL1kM2NwaKho",
        "colab_type": "code",
        "colab": {
          "base_uri": "https://localhost:8080/",
          "height": 34
        },
        "outputId": "bce4e9af-a136-4e8e-8019-af8ecd564893"
      },
      "source": [
        "a=np.array([10,20,50,100,10,90,60])\n",
        "b=np.array([50,20,100,30,80,90,100,140])\n",
        "np.setxor1d(a,b)"
      ],
      "execution_count": 7,
      "outputs": [
        {
          "output_type": "execute_result",
          "data": {
            "text/plain": [
              "array([ 10,  30,  60,  80, 140])"
            ]
          },
          "metadata": {
            "tags": []
          },
          "execution_count": 7
        }
      ]
    },
    {
      "cell_type": "markdown",
      "metadata": {
        "id": "JB1-000q1gCy",
        "colab_type": "text"
      },
      "source": [
        " Write a NumPy program to find the union of two arrays. Union will return the unique, sorted array of values that are in either of the two input arrays"
      ]
    },
    {
      "cell_type": "code",
      "metadata": {
        "id": "ZRgq037GQwPD",
        "colab_type": "code",
        "colab": {
          "base_uri": "https://localhost:8080/",
          "height": 34
        },
        "outputId": "55697acf-07ba-4c85-b88d-1d49d3219951"
      },
      "source": [
        "a=np.array([10,20,50,100,10,90,60])\n",
        "b=np.array([50,20,100,30,80,90,100,140])\n",
        "np.union1d(a,b)"
      ],
      "execution_count": 10,
      "outputs": [
        {
          "output_type": "execute_result",
          "data": {
            "text/plain": [
              "array([ 10,  20,  30,  50,  60,  80,  90, 100, 140])"
            ]
          },
          "metadata": {
            "tags": []
          },
          "execution_count": 10
        }
      ]
    },
    {
      "cell_type": "markdown",
      "metadata": {
        "id": "LDo9vekx1rti",
        "colab_type": "text"
      },
      "source": [
        "Write a NumPy program to test whether all elements in an array evaluate to True"
      ]
    },
    {
      "cell_type": "code",
      "metadata": {
        "id": "HyvaoFe-QwaA",
        "colab_type": "code",
        "colab": {
          "base_uri": "https://localhost:8080/",
          "height": 34
        },
        "outputId": "0f8b4e5f-51f3-4397-8abf-50f2374127ae"
      },
      "source": [
        "b=np.array([50,0,100,0,80,90,100,140,0])\n",
        "np.all(b)"
      ],
      "execution_count": 21,
      "outputs": [
        {
          "output_type": "execute_result",
          "data": {
            "text/plain": [
              "False"
            ]
          },
          "metadata": {
            "tags": []
          },
          "execution_count": 21
        }
      ]
    },
    {
      "cell_type": "markdown",
      "metadata": {
        "id": "hXJnUh79393B",
        "colab_type": "text"
      },
      "source": [
        "Write a NumPy program to test whether any array element along a given axis evaluates to"
      ]
    },
    {
      "cell_type": "code",
      "metadata": {
        "id": "Nlhk1vrMQwiW",
        "colab_type": "code",
        "colab": {
          "base_uri": "https://localhost:8080/",
          "height": 85
        },
        "outputId": "79ba6b57-3d30-480e-e8f2-baa2a6b83310"
      },
      "source": [
        "a=np.random.randint(0,10,(3,3))\n",
        "print(a)\n",
        "np.all(a,axis=0)"
      ],
      "execution_count": 22,
      "outputs": [
        {
          "output_type": "stream",
          "text": [
            "[[0 9 8]\n",
            " [2 2 8]\n",
            " [1 0 5]]\n"
          ],
          "name": "stdout"
        },
        {
          "output_type": "execute_result",
          "data": {
            "text/plain": [
              "array([False, False,  True])"
            ]
          },
          "metadata": {
            "tags": []
          },
          "execution_count": 22
        }
      ]
    },
    {
      "cell_type": "markdown",
      "metadata": {
        "id": "inS0Au858zNH",
        "colab_type": "text"
      },
      "source": [
        "Write a NumPy program to construct an array by repeating"
      ]
    },
    {
      "cell_type": "code",
      "metadata": {
        "id": "omd6AwmsQwxu",
        "colab_type": "code",
        "colab": {
          "base_uri": "https://localhost:8080/",
          "height": 51
        },
        "outputId": "b285d060-0b0e-4df1-c377-3d5e464e6b63"
      },
      "source": [
        "a=np.array([1,2,3,4])\n",
        "print('Repeated Elements')\n",
        "np.tile(a,2)"
      ],
      "execution_count": 26,
      "outputs": [
        {
          "output_type": "stream",
          "text": [
            "Repeated Elements\n"
          ],
          "name": "stdout"
        },
        {
          "output_type": "execute_result",
          "data": {
            "text/plain": [
              "array([1, 2, 3, 4, 1, 2, 3, 4])"
            ]
          },
          "metadata": {
            "tags": []
          },
          "execution_count": 26
        }
      ]
    },
    {
      "cell_type": "markdown",
      "metadata": {
        "id": "vgdKjBPr_Ulf",
        "colab_type": "text"
      },
      "source": [
        "Write a NumPy program to repeat elements of an array. "
      ]
    },
    {
      "cell_type": "code",
      "metadata": {
        "id": "tmNeH_g4Qw8P",
        "colab_type": "code",
        "colab": {
          "base_uri": "https://localhost:8080/",
          "height": 51
        },
        "outputId": "c4b017b4-2a72-447e-9aca-b16d49930f6b"
      },
      "source": [
        "a=np.array([1,2,3,4])\n",
        "print('Repeat Each Elements')\n",
        "np.repeat(a,2)"
      ],
      "execution_count": 28,
      "outputs": [
        {
          "output_type": "stream",
          "text": [
            "Repeat Each Elements\n"
          ],
          "name": "stdout"
        },
        {
          "output_type": "execute_result",
          "data": {
            "text/plain": [
              "array([1, 1, 2, 2, 3, 3, 4, 4])"
            ]
          },
          "metadata": {
            "tags": []
          },
          "execution_count": 28
        }
      ]
    },
    {
      "cell_type": "code",
      "metadata": {
        "id": "20uqhcxcQxHj",
        "colab_type": "code",
        "colab": {}
      },
      "source": [
        ""
      ],
      "execution_count": null,
      "outputs": []
    },
    {
      "cell_type": "code",
      "metadata": {
        "id": "fmOqXZapQxQ-",
        "colab_type": "code",
        "colab": {}
      },
      "source": [
        ""
      ],
      "execution_count": null,
      "outputs": []
    },
    {
      "cell_type": "code",
      "metadata": {
        "id": "5PURG11TQxFA",
        "colab_type": "code",
        "colab": {}
      },
      "source": [
        ""
      ],
      "execution_count": null,
      "outputs": []
    },
    {
      "cell_type": "code",
      "metadata": {
        "id": "x3_0_K3-QxCL",
        "colab_type": "code",
        "colab": {}
      },
      "source": [
        ""
      ],
      "execution_count": null,
      "outputs": []
    },
    {
      "cell_type": "code",
      "metadata": {
        "id": "9J1vLK8OQw5V",
        "colab_type": "code",
        "colab": {}
      },
      "source": [
        ""
      ],
      "execution_count": null,
      "outputs": []
    },
    {
      "cell_type": "code",
      "metadata": {
        "id": "i3Gk5r69Qw3R",
        "colab_type": "code",
        "colab": {}
      },
      "source": [
        ""
      ],
      "execution_count": null,
      "outputs": []
    },
    {
      "cell_type": "code",
      "metadata": {
        "id": "dTCnqaLRQwuF",
        "colab_type": "code",
        "colab": {}
      },
      "source": [
        ""
      ],
      "execution_count": null,
      "outputs": []
    },
    {
      "cell_type": "code",
      "metadata": {
        "id": "LqLtaSHIQwrR",
        "colab_type": "code",
        "colab": {}
      },
      "source": [
        ""
      ],
      "execution_count": null,
      "outputs": []
    },
    {
      "cell_type": "code",
      "metadata": {
        "id": "ECcGrMaxQwok",
        "colab_type": "code",
        "colab": {}
      },
      "source": [
        ""
      ],
      "execution_count": null,
      "outputs": []
    },
    {
      "cell_type": "code",
      "metadata": {
        "id": "NWD_pE1XQwfy",
        "colab_type": "code",
        "colab": {}
      },
      "source": [
        ""
      ],
      "execution_count": null,
      "outputs": []
    },
    {
      "cell_type": "code",
      "metadata": {
        "id": "VS927VgGQwVC",
        "colab_type": "code",
        "colab": {}
      },
      "source": [
        ""
      ],
      "execution_count": null,
      "outputs": []
    },
    {
      "cell_type": "code",
      "metadata": {
        "id": "-M8TNbjZQwLc",
        "colab_type": "code",
        "colab": {}
      },
      "source": [
        ""
      ],
      "execution_count": null,
      "outputs": []
    },
    {
      "cell_type": "code",
      "metadata": {
        "id": "LGL4ppiGQwHR",
        "colab_type": "code",
        "colab": {}
      },
      "source": [
        ""
      ],
      "execution_count": null,
      "outputs": []
    },
    {
      "cell_type": "code",
      "metadata": {
        "id": "0WrQUA0GQwD4",
        "colab_type": "code",
        "colab": {}
      },
      "source": [
        ""
      ],
      "execution_count": null,
      "outputs": []
    },
    {
      "cell_type": "code",
      "metadata": {
        "id": "oxcFj7GKQwBC",
        "colab_type": "code",
        "colab": {}
      },
      "source": [
        ""
      ],
      "execution_count": null,
      "outputs": []
    },
    {
      "cell_type": "code",
      "metadata": {
        "id": "Kr0CvMoFQv29",
        "colab_type": "code",
        "colab": {}
      },
      "source": [
        ""
      ],
      "execution_count": null,
      "outputs": []
    },
    {
      "cell_type": "code",
      "metadata": {
        "id": "H1BV7op0olUX",
        "colab_type": "code",
        "colab": {}
      },
      "source": [
        ""
      ],
      "execution_count": null,
      "outputs": []
    },
    {
      "cell_type": "code",
      "metadata": {
        "id": "qwuaxBWjola7",
        "colab_type": "code",
        "colab": {}
      },
      "source": [
        ""
      ],
      "execution_count": null,
      "outputs": []
    },
    {
      "cell_type": "code",
      "metadata": {
        "id": "GN0idg7bolg1",
        "colab_type": "code",
        "colab": {}
      },
      "source": [
        ""
      ],
      "execution_count": null,
      "outputs": []
    },
    {
      "cell_type": "code",
      "metadata": {
        "id": "YIuegGaMolZG",
        "colab_type": "code",
        "colab": {}
      },
      "source": [
        ""
      ],
      "execution_count": null,
      "outputs": []
    },
    {
      "cell_type": "code",
      "metadata": {
        "id": "lQFJWqmJolSx",
        "colab_type": "code",
        "colab": {
          "base_uri": "https://localhost:8080/",
          "height": 272
        },
        "outputId": "00c4921b-02f3-4860-d894-2faf1bd99807"
      },
      "source": [
        "import re\n",
        "test_data = [\"1912\", \"1929\", \"1913-1923\",\n",
        "             \"(1951)\", \"1994\", \"1934\",\n",
        "             \"c. 1915\", \"1995\", \"c. 1912\",\n",
        "             \"(1988)\", \"2002\", \"1957-1959\",\n",
        "             \"c. 1955.\", \"c. 1970's\", \n",
        "             \"C. 1990-1999\"]\n",
        "\n",
        "bad_chars = [\"(\",\")\",\"c\",\"C\",\".\",\"s\",\"'\", \" \"]\n",
        "\n",
        "a=re.compile('[(,),c,C,.,\\',s,\\s]')\n",
        "for i in test_data:\n",
        "\n",
        "    k=re.sub(a,\"\",i)\n",
        "    print(k)\n",
        "\n",
        "\n",
        "\n",
        "\n"
      ],
      "execution_count": 9,
      "outputs": [
        {
          "output_type": "stream",
          "text": [
            "1912\n",
            "1929\n",
            "1913-1923\n",
            "1951\n",
            "1994\n",
            "1934\n",
            "1915\n",
            "1995\n",
            "1912\n",
            "1988\n",
            "2002\n",
            "1957-1959\n",
            "1955\n",
            "1970\n",
            "1990-1999\n"
          ],
          "name": "stdout"
        }
      ]
    },
    {
      "cell_type": "code",
      "metadata": {
        "id": "Q1mZ41gWolLy",
        "colab_type": "code",
        "colab": {}
      },
      "source": [
        ""
      ],
      "execution_count": null,
      "outputs": []
    },
    {
      "cell_type": "code",
      "metadata": {
        "id": "oNXi_JrmolI8",
        "colab_type": "code",
        "colab": {}
      },
      "source": [
        ""
      ],
      "execution_count": null,
      "outputs": []
    },
    {
      "cell_type": "code",
      "metadata": {
        "id": "NGNFoxZJolCU",
        "colab_type": "code",
        "colab": {}
      },
      "source": [
        ""
      ],
      "execution_count": null,
      "outputs": []
    },
    {
      "cell_type": "code",
      "metadata": {
        "id": "j65il5D3ok75",
        "colab_type": "code",
        "colab": {}
      },
      "source": [
        ""
      ],
      "execution_count": null,
      "outputs": []
    },
    {
      "cell_type": "code",
      "metadata": {
        "id": "Ns7wCZj1ok0-",
        "colab_type": "code",
        "colab": {}
      },
      "source": [
        ""
      ],
      "execution_count": null,
      "outputs": []
    },
    {
      "cell_type": "code",
      "metadata": {
        "id": "Ul2SzVcLokzV",
        "colab_type": "code",
        "colab": {}
      },
      "source": [
        ""
      ],
      "execution_count": null,
      "outputs": []
    },
    {
      "cell_type": "code",
      "metadata": {
        "id": "gVyC5_N3okqk",
        "colab_type": "code",
        "colab": {}
      },
      "source": [
        ""
      ],
      "execution_count": null,
      "outputs": []
    },
    {
      "cell_type": "code",
      "metadata": {
        "id": "KNrXjpbhokmj",
        "colab_type": "code",
        "colab": {}
      },
      "source": [
        ""
      ],
      "execution_count": null,
      "outputs": []
    },
    {
      "cell_type": "code",
      "metadata": {
        "id": "6JG11bG9okkk",
        "colab_type": "code",
        "colab": {}
      },
      "source": [
        ""
      ],
      "execution_count": null,
      "outputs": []
    },
    {
      "cell_type": "code",
      "metadata": {
        "id": "x8Ii3JI0okd7",
        "colab_type": "code",
        "colab": {}
      },
      "source": [
        ""
      ],
      "execution_count": null,
      "outputs": []
    },
    {
      "cell_type": "code",
      "metadata": {
        "id": "D_tHHEnSokcD",
        "colab_type": "code",
        "colab": {}
      },
      "source": [
        ""
      ],
      "execution_count": null,
      "outputs": []
    },
    {
      "cell_type": "code",
      "metadata": {
        "id": "shBj-iI8_rXK",
        "colab_type": "code",
        "colab": {}
      },
      "source": [
        ""
      ],
      "execution_count": null,
      "outputs": []
    },
    {
      "cell_type": "code",
      "metadata": {
        "id": "B08jGXoY_rRS",
        "colab_type": "code",
        "colab": {}
      },
      "source": [
        ""
      ],
      "execution_count": null,
      "outputs": []
    }
  ]
}