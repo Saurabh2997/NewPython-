{
  "nbformat": 4,
  "nbformat_minor": 0,
  "metadata": {
    "colab": {
      "name": "Date and Time.ipynb",
      "provenance": [],
      "authorship_tag": "ABX9TyPmXL7azFAwlE1WaqGehHEE",
      "include_colab_link": true
    },
    "kernelspec": {
      "name": "python3",
      "display_name": "Python 3"
    }
  },
  "cells": [
    {
      "cell_type": "markdown",
      "metadata": {
        "id": "view-in-github",
        "colab_type": "text"
      },
      "source": [
        "<a href=\"https://colab.research.google.com/github/Saurabh2997/NewPython-/blob/master/Date_and_Time.ipynb\" target=\"_parent\"><img src=\"https://colab.research.google.com/assets/colab-badge.svg\" alt=\"Open In Colab\"/></a>"
      ]
    },
    {
      "cell_type": "code",
      "metadata": {
        "id": "UvfHdnTV2vri",
        "colab_type": "code",
        "colab": {}
      },
      "source": [
        "import datetime as dt"
      ],
      "execution_count": 1,
      "outputs": []
    },
    {
      "cell_type": "markdown",
      "metadata": {
        "id": "kuX5O04bNTjG",
        "colab_type": "text"
      },
      "source": [
        "# Basic Datetime Command"
      ]
    },
    {
      "cell_type": "code",
      "metadata": {
        "id": "PiUE2OoG9rEJ",
        "colab_type": "code",
        "colab": {
          "base_uri": "https://localhost:8080/",
          "height": 51
        },
        "outputId": "e3827f3d-da7c-4da2-9106-ff04ffd5a8ca"
      },
      "source": [
        "td=dt.date(2020,8,12)\n",
        "print(td)\n",
        "print(type(td))\n"
      ],
      "execution_count": 7,
      "outputs": [
        {
          "output_type": "stream",
          "text": [
            "2020-08-12\n",
            "<class 'datetime.date'>\n"
          ],
          "name": "stdout"
        }
      ]
    },
    {
      "cell_type": "code",
      "metadata": {
        "id": "pxjAxjL-9ruX",
        "colab_type": "code",
        "colab": {
          "base_uri": "https://localhost:8080/",
          "height": 34
        },
        "outputId": "69973ff2-8d73-4173-abf9-c8e632bdb724"
      },
      "source": [
        "d=dt.date(1997,5,29)\n",
        "k=d.strftime('%d-%m-%Y')\n",
        "print(type(k))"
      ],
      "execution_count": 13,
      "outputs": [
        {
          "output_type": "stream",
          "text": [
            "<class 'str'>\n"
          ],
          "name": "stdout"
        }
      ]
    },
    {
      "cell_type": "code",
      "metadata": {
        "id": "8xQ_8-QP9ryJ",
        "colab_type": "code",
        "colab": {
          "base_uri": "https://localhost:8080/",
          "height": 85
        },
        "outputId": "6415bcc3-46d9-470f-bcda-ec20f8eb9c97"
      },
      "source": [
        "d=dt.date(1998,9,1)\n",
        "print(d)\n",
        "print('Year',d.year)\n",
        "print('Month',d.month)\n",
        "print('Day',d.day)"
      ],
      "execution_count": 17,
      "outputs": [
        {
          "output_type": "stream",
          "text": [
            "1998-09-01\n",
            "Year 1998\n",
            "Month 9\n",
            "Day 1\n"
          ],
          "name": "stdout"
        }
      ]
    },
    {
      "cell_type": "code",
      "metadata": {
        "id": "gzkzP0-E9r1h",
        "colab_type": "code",
        "colab": {
          "base_uri": "https://localhost:8080/",
          "height": 51
        },
        "outputId": "e3a33d6a-1d7f-451e-8a74-08beff6de053"
      },
      "source": [
        "d=dt.date(2020,9,23)\n",
        "k=d.weekday()\n",
        "print('Using weekday() function',k)\n",
        "j=d.isoweekday()\n",
        "print('Using isoweekday() function',j)"
      ],
      "execution_count": 24,
      "outputs": [
        {
          "output_type": "stream",
          "text": [
            "Using weekday() function 2\n",
            "Using isoweekday() function 3\n"
          ],
          "name": "stdout"
        }
      ]
    },
    {
      "cell_type": "code",
      "metadata": {
        "id": "uGRFPxY09r8a",
        "colab_type": "code",
        "colab": {
          "base_uri": "https://localhost:8080/",
          "height": 34
        },
        "outputId": "b284f366-7fa4-47ad-fbb6-6d850688f176"
      },
      "source": [
        "d=dt.date.today()\n",
        "print(d)"
      ],
      "execution_count": 28,
      "outputs": [
        {
          "output_type": "stream",
          "text": [
            "2020-09-23\n"
          ],
          "name": "stdout"
        }
      ]
    },
    {
      "cell_type": "code",
      "metadata": {
        "id": "msJ3wMfm9sAV",
        "colab_type": "code",
        "colab": {
          "base_uri": "https://localhost:8080/",
          "height": 34
        },
        "outputId": "069c73c4-d0b8-40dc-9c31-1669b6a0b566"
      },
      "source": [
        "d=dt.time(11,12,59)\n",
        "print(d)"
      ],
      "execution_count": 30,
      "outputs": [
        {
          "output_type": "stream",
          "text": [
            "11:12:59\n"
          ],
          "name": "stdout"
        }
      ]
    },
    {
      "cell_type": "code",
      "metadata": {
        "id": "6DUl3BhW9sEH",
        "colab_type": "code",
        "colab": {
          "base_uri": "https://localhost:8080/",
          "height": 34
        },
        "outputId": "cdde0d0e-44f8-47af-ddad-7337d17bb2bb"
      },
      "source": [
        "d=dt.datetime.now()\n",
        "print(d)"
      ],
      "execution_count": 37,
      "outputs": [
        {
          "output_type": "stream",
          "text": [
            "2020-09-23 17:50:58.807261\n"
          ],
          "name": "stdout"
        }
      ]
    },
    {
      "cell_type": "code",
      "metadata": {
        "id": "Bd_HoLSUGZmw",
        "colab_type": "code",
        "colab": {
          "base_uri": "https://localhost:8080/",
          "height": 34
        },
        "outputId": "2474acbc-a3af-480e-8db5-5b21ceae02cd"
      },
      "source": [
        "d=dt.datetime.today()\n",
        "print(d)"
      ],
      "execution_count": 42,
      "outputs": [
        {
          "output_type": "stream",
          "text": [
            "2020-09-23 17:55:01.644862\n"
          ],
          "name": "stdout"
        }
      ]
    },
    {
      "cell_type": "code",
      "metadata": {
        "id": "ApIt32v8IrYV",
        "colab_type": "code",
        "colab": {
          "base_uri": "https://localhost:8080/",
          "height": 34
        },
        "outputId": "5c758167-de2b-41a7-ffbe-6f42a5cef774"
      },
      "source": [
        "d=dt.datetime.now()\n",
        "print(d.timestamp())"
      ],
      "execution_count": 49,
      "outputs": [
        {
          "output_type": "stream",
          "text": [
            "1600884396.481176\n"
          ],
          "name": "stdout"
        }
      ]
    },
    {
      "cell_type": "code",
      "metadata": {
        "id": "Ui-CFlfUIrsN",
        "colab_type": "code",
        "colab": {
          "base_uri": "https://localhost:8080/",
          "height": 34
        },
        "outputId": "c3c15205-407e-407c-93bf-b02c327d58d9"
      },
      "source": [
        "d1=dt.datetime.today()\n",
        "d2=dt.datetime(1997,5,29)\n",
        "tm=d1-d2\n",
        "l=tm.days\n",
        "j=l/365\n",
        "print(int(j))"
      ],
      "execution_count": 65,
      "outputs": [
        {
          "output_type": "stream",
          "text": [
            "23\n"
          ],
          "name": "stdout"
        }
      ]
    },
    {
      "cell_type": "markdown",
      "metadata": {
        "id": "hpNNJQBHNatN",
        "colab_type": "text"
      },
      "source": [
        "# Python datetime [54 exercises with solution]"
      ]
    },
    {
      "cell_type": "markdown",
      "metadata": {
        "id": "PRx80DtFRD2g",
        "colab_type": "text"
      },
      "source": [
        "1. Write a Python script to display the various Date Time formats - Go to the editor\n",
        "a) Current date and time\n",
        "b) Current year\n",
        "c) Month of year\n",
        "d) Week number of the year\n",
        "e) Weekday of the week\n",
        "f) Day of year\n",
        "g) Day of the month\n",
        "h) Day of week"
      ]
    },
    {
      "cell_type": "code",
      "metadata": {
        "id": "ZHZ40vdo9sMF",
        "colab_type": "code",
        "colab": {
          "base_uri": "https://localhost:8080/",
          "height": 153
        },
        "outputId": "556dc160-fb0f-41ea-ecac-b4233f3da00c"
      },
      "source": [
        "a=dt.datetime.today()\n",
        "print('Current Date and Time:',a)\n",
        "print('Current Year',a.year)\n",
        "print('Month of Year',a.month)\n",
        "print('Week Number of Year',a.strftime('%W'))\n",
        "print('Weekday of Week',a.isoweekday())\n",
        "print('Day of Year',a.strftime('%j'))\n",
        "print('Day of Month',a.day)\n",
        "print('Day of Month',a.strftime(\"%A\"))"
      ],
      "execution_count": 77,
      "outputs": [
        {
          "output_type": "stream",
          "text": [
            "Current Date and Time: 2020-09-23 18:53:57.649180\n",
            "Current Year 2020\n",
            "Month of Year 9\n",
            "Week Number of Year 38\n",
            "Weekday of Week 3\n",
            "Day of Year 267\n",
            "Day of Month 23\n",
            "Day of Month Wednesday\n"
          ],
          "name": "stdout"
        }
      ]
    },
    {
      "cell_type": "code",
      "metadata": {
        "id": "gMV_1VMo9sQF",
        "colab_type": "code",
        "colab": {}
      },
      "source": [
        ""
      ],
      "execution_count": null,
      "outputs": []
    },
    {
      "cell_type": "code",
      "metadata": {
        "id": "9Y-TXSLG9sT8",
        "colab_type": "code",
        "colab": {}
      },
      "source": [
        ""
      ],
      "execution_count": null,
      "outputs": []
    },
    {
      "cell_type": "code",
      "metadata": {
        "id": "Ho1W3TM29sdv",
        "colab_type": "code",
        "colab": {}
      },
      "source": [
        ""
      ],
      "execution_count": null,
      "outputs": []
    },
    {
      "cell_type": "code",
      "metadata": {
        "id": "6JJkAtxf9skp",
        "colab_type": "code",
        "colab": {}
      },
      "source": [
        ""
      ],
      "execution_count": null,
      "outputs": []
    },
    {
      "cell_type": "code",
      "metadata": {
        "id": "C0waORay9sq7",
        "colab_type": "code",
        "colab": {}
      },
      "source": [
        ""
      ],
      "execution_count": null,
      "outputs": []
    },
    {
      "cell_type": "code",
      "metadata": {
        "id": "hkeUCkn29svD",
        "colab_type": "code",
        "colab": {}
      },
      "source": [
        ""
      ],
      "execution_count": null,
      "outputs": []
    },
    {
      "cell_type": "code",
      "metadata": {
        "id": "NedCt5IX9s01",
        "colab_type": "code",
        "colab": {}
      },
      "source": [
        ""
      ],
      "execution_count": null,
      "outputs": []
    },
    {
      "cell_type": "code",
      "metadata": {
        "id": "wdayoG_Z9s7J",
        "colab_type": "code",
        "colab": {}
      },
      "source": [
        ""
      ],
      "execution_count": null,
      "outputs": []
    },
    {
      "cell_type": "code",
      "metadata": {
        "id": "CKiCw0RN9tCW",
        "colab_type": "code",
        "colab": {}
      },
      "source": [
        ""
      ],
      "execution_count": null,
      "outputs": []
    },
    {
      "cell_type": "code",
      "metadata": {
        "id": "5hLFWQVM9tII",
        "colab_type": "code",
        "colab": {}
      },
      "source": [
        ""
      ],
      "execution_count": null,
      "outputs": []
    },
    {
      "cell_type": "code",
      "metadata": {
        "id": "FnvolE7L9tP8",
        "colab_type": "code",
        "colab": {}
      },
      "source": [
        ""
      ],
      "execution_count": null,
      "outputs": []
    },
    {
      "cell_type": "code",
      "metadata": {
        "id": "ndojk7Ox9tN6",
        "colab_type": "code",
        "colab": {}
      },
      "source": [
        ""
      ],
      "execution_count": null,
      "outputs": []
    },
    {
      "cell_type": "code",
      "metadata": {
        "id": "LtED5M_d9tF3",
        "colab_type": "code",
        "colab": {}
      },
      "source": [
        ""
      ],
      "execution_count": null,
      "outputs": []
    },
    {
      "cell_type": "code",
      "metadata": {
        "id": "yxTnHhQv9tA8",
        "colab_type": "code",
        "colab": {}
      },
      "source": [
        ""
      ],
      "execution_count": null,
      "outputs": []
    },
    {
      "cell_type": "code",
      "metadata": {
        "id": "M3-J6OT99s_d",
        "colab_type": "code",
        "colab": {}
      },
      "source": [
        ""
      ],
      "execution_count": null,
      "outputs": []
    },
    {
      "cell_type": "code",
      "metadata": {
        "id": "uH0Mybhq9s5E",
        "colab_type": "code",
        "colab": {}
      },
      "source": [
        ""
      ],
      "execution_count": null,
      "outputs": []
    },
    {
      "cell_type": "code",
      "metadata": {
        "id": "byY_X-FS9sy3",
        "colab_type": "code",
        "colab": {}
      },
      "source": [
        ""
      ],
      "execution_count": null,
      "outputs": []
    },
    {
      "cell_type": "code",
      "metadata": {
        "id": "QLAdkqon9soK",
        "colab_type": "code",
        "colab": {}
      },
      "source": [
        ""
      ],
      "execution_count": null,
      "outputs": []
    },
    {
      "cell_type": "code",
      "metadata": {
        "id": "zRuuTkeG9siZ",
        "colab_type": "code",
        "colab": {}
      },
      "source": [
        ""
      ],
      "execution_count": null,
      "outputs": []
    },
    {
      "cell_type": "code",
      "metadata": {
        "id": "LbXW6pWX9sa1",
        "colab_type": "code",
        "colab": {}
      },
      "source": [
        ""
      ],
      "execution_count": null,
      "outputs": []
    },
    {
      "cell_type": "code",
      "metadata": {
        "id": "F3Kw3EtW9sXl",
        "colab_type": "code",
        "colab": {}
      },
      "source": [
        ""
      ],
      "execution_count": null,
      "outputs": []
    },
    {
      "cell_type": "code",
      "metadata": {
        "id": "EjNjfsd79r6K",
        "colab_type": "code",
        "colab": {}
      },
      "source": [
        ""
      ],
      "execution_count": null,
      "outputs": []
    }
  ]
}